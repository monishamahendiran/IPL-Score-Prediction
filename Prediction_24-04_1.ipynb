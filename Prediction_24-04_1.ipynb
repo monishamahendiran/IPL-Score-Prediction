{
 "cells": [
  {
   "cell_type": "code",
   "execution_count": 2,
   "metadata": {},
   "outputs": [],
   "source": [
    "import pandas as pd\n",
    "import numpy as np"
   ]
  },
  {
   "cell_type": "code",
   "execution_count": 3,
   "metadata": {},
   "outputs": [
    {
     "name": "stderr",
     "output_type": "stream",
     "text": [
      "C:\\Anaconda\\lib\\site-packages\\IPython\\core\\interactiveshell.py:3146: DtypeWarning: Columns (1) have mixed types.Specify dtype option on import or set low_memory=False.\n",
      "  has_raised = await self.run_ast_nodes(code_ast.body, cell_name,\n"
     ]
    }
   ],
   "source": [
    "df = pd.read_csv(r'all_matches.csv')"
   ]
  },
  {
   "cell_type": "code",
   "execution_count": 4,
   "metadata": {},
   "outputs": [],
   "source": [
    "df= df[(df['ball']<6)&((df['innings']==1) | (df['innings']==2))]"
   ]
  },
  {
   "cell_type": "code",
   "execution_count": 5,
   "metadata": {
    "scrolled": true
   },
   "outputs": [],
   "source": [
    "df.drop(['penalty','other_wicket_type','other_player_dismissed'], axis=1, inplace = True)"
   ]
  },
  {
   "cell_type": "code",
   "execution_count": 6,
   "metadata": {},
   "outputs": [],
   "source": [
    "df = df.fillna(0)"
   ]
  },
  {
   "cell_type": "code",
   "execution_count": 7,
   "metadata": {},
   "outputs": [],
   "source": [
    "overs = pd.DataFrame(df['ball'].astype(str))"
   ]
  },
  {
   "cell_type": "code",
   "execution_count": 8,
   "metadata": {},
   "outputs": [],
   "source": [
    "df['overs'] = overs['ball'].apply(lambda x: int(x.split('.')[0])+1)"
   ]
  },
  {
   "cell_type": "code",
   "execution_count": 9,
   "metadata": {},
   "outputs": [],
   "source": [
    "df['score'] = df['runs_off_bat']+df['extras']"
   ]
  },
  {
   "cell_type": "code",
   "execution_count": 10,
   "metadata": {},
   "outputs": [],
   "source": [
    "df['total_score']=df.groupby(['match_id','innings'])['score'].cumsum()"
   ]
  },
  {
   "cell_type": "code",
   "execution_count": 11,
   "metadata": {},
   "outputs": [],
   "source": [
    "df['wicket'] = df['player_dismissed'].apply(lambda x: 1 if x!=0 else 0)"
   ]
  },
  {
   "cell_type": "code",
   "execution_count": 12,
   "metadata": {
    "scrolled": true
   },
   "outputs": [],
   "source": [
    "df['bowlers_wicket']=df[df['wicket_type']!='run out']['wicket']"
   ]
  },
  {
   "cell_type": "code",
   "execution_count": 13,
   "metadata": {
    "scrolled": true
   },
   "outputs": [
    {
     "data": {
      "text/html": [
       "<div>\n",
       "<style scoped>\n",
       "    .dataframe tbody tr th:only-of-type {\n",
       "        vertical-align: middle;\n",
       "    }\n",
       "\n",
       "    .dataframe tbody tr th {\n",
       "        vertical-align: top;\n",
       "    }\n",
       "\n",
       "    .dataframe thead th {\n",
       "        text-align: right;\n",
       "    }\n",
       "</style>\n",
       "<table border=\"1\" class=\"dataframe\">\n",
       "  <thead>\n",
       "    <tr style=\"text-align: right;\">\n",
       "      <th></th>\n",
       "      <th>match_id</th>\n",
       "      <th>season</th>\n",
       "      <th>start_date</th>\n",
       "      <th>venue</th>\n",
       "      <th>innings</th>\n",
       "      <th>ball</th>\n",
       "      <th>batting_team</th>\n",
       "      <th>bowling_team</th>\n",
       "      <th>striker</th>\n",
       "      <th>non_striker</th>\n",
       "      <th>...</th>\n",
       "      <th>noballs</th>\n",
       "      <th>byes</th>\n",
       "      <th>legbyes</th>\n",
       "      <th>wicket_type</th>\n",
       "      <th>player_dismissed</th>\n",
       "      <th>overs</th>\n",
       "      <th>score</th>\n",
       "      <th>total_score</th>\n",
       "      <th>wicket</th>\n",
       "      <th>bowlers_wicket</th>\n",
       "    </tr>\n",
       "  </thead>\n",
       "  <tbody>\n",
       "    <tr>\n",
       "      <th>0</th>\n",
       "      <td>335982</td>\n",
       "      <td>2007/08</td>\n",
       "      <td>18-04-2008</td>\n",
       "      <td>M Chinnaswamy Stadium</td>\n",
       "      <td>1</td>\n",
       "      <td>0.1</td>\n",
       "      <td>Kolkata Knight Riders</td>\n",
       "      <td>Royal Challengers Bangalore</td>\n",
       "      <td>SC Ganguly</td>\n",
       "      <td>BB McCullum</td>\n",
       "      <td>...</td>\n",
       "      <td>0.0</td>\n",
       "      <td>0.0</td>\n",
       "      <td>1.0</td>\n",
       "      <td>0</td>\n",
       "      <td>0</td>\n",
       "      <td>1</td>\n",
       "      <td>1</td>\n",
       "      <td>1</td>\n",
       "      <td>0</td>\n",
       "      <td>0.0</td>\n",
       "    </tr>\n",
       "    <tr>\n",
       "      <th>1</th>\n",
       "      <td>335982</td>\n",
       "      <td>2007/08</td>\n",
       "      <td>18-04-2008</td>\n",
       "      <td>M Chinnaswamy Stadium</td>\n",
       "      <td>1</td>\n",
       "      <td>0.2</td>\n",
       "      <td>Kolkata Knight Riders</td>\n",
       "      <td>Royal Challengers Bangalore</td>\n",
       "      <td>BB McCullum</td>\n",
       "      <td>SC Ganguly</td>\n",
       "      <td>...</td>\n",
       "      <td>0.0</td>\n",
       "      <td>0.0</td>\n",
       "      <td>0.0</td>\n",
       "      <td>0</td>\n",
       "      <td>0</td>\n",
       "      <td>1</td>\n",
       "      <td>0</td>\n",
       "      <td>1</td>\n",
       "      <td>0</td>\n",
       "      <td>0.0</td>\n",
       "    </tr>\n",
       "    <tr>\n",
       "      <th>2</th>\n",
       "      <td>335982</td>\n",
       "      <td>2007/08</td>\n",
       "      <td>18-04-2008</td>\n",
       "      <td>M Chinnaswamy Stadium</td>\n",
       "      <td>1</td>\n",
       "      <td>0.3</td>\n",
       "      <td>Kolkata Knight Riders</td>\n",
       "      <td>Royal Challengers Bangalore</td>\n",
       "      <td>BB McCullum</td>\n",
       "      <td>SC Ganguly</td>\n",
       "      <td>...</td>\n",
       "      <td>0.0</td>\n",
       "      <td>0.0</td>\n",
       "      <td>0.0</td>\n",
       "      <td>0</td>\n",
       "      <td>0</td>\n",
       "      <td>1</td>\n",
       "      <td>1</td>\n",
       "      <td>2</td>\n",
       "      <td>0</td>\n",
       "      <td>0.0</td>\n",
       "    </tr>\n",
       "    <tr>\n",
       "      <th>3</th>\n",
       "      <td>335982</td>\n",
       "      <td>2007/08</td>\n",
       "      <td>18-04-2008</td>\n",
       "      <td>M Chinnaswamy Stadium</td>\n",
       "      <td>1</td>\n",
       "      <td>0.4</td>\n",
       "      <td>Kolkata Knight Riders</td>\n",
       "      <td>Royal Challengers Bangalore</td>\n",
       "      <td>BB McCullum</td>\n",
       "      <td>SC Ganguly</td>\n",
       "      <td>...</td>\n",
       "      <td>0.0</td>\n",
       "      <td>0.0</td>\n",
       "      <td>0.0</td>\n",
       "      <td>0</td>\n",
       "      <td>0</td>\n",
       "      <td>1</td>\n",
       "      <td>0</td>\n",
       "      <td>2</td>\n",
       "      <td>0</td>\n",
       "      <td>0.0</td>\n",
       "    </tr>\n",
       "    <tr>\n",
       "      <th>4</th>\n",
       "      <td>335982</td>\n",
       "      <td>2007/08</td>\n",
       "      <td>18-04-2008</td>\n",
       "      <td>M Chinnaswamy Stadium</td>\n",
       "      <td>1</td>\n",
       "      <td>0.5</td>\n",
       "      <td>Kolkata Knight Riders</td>\n",
       "      <td>Royal Challengers Bangalore</td>\n",
       "      <td>BB McCullum</td>\n",
       "      <td>SC Ganguly</td>\n",
       "      <td>...</td>\n",
       "      <td>0.0</td>\n",
       "      <td>0.0</td>\n",
       "      <td>0.0</td>\n",
       "      <td>0</td>\n",
       "      <td>0</td>\n",
       "      <td>1</td>\n",
       "      <td>0</td>\n",
       "      <td>2</td>\n",
       "      <td>0</td>\n",
       "      <td>0.0</td>\n",
       "    </tr>\n",
       "    <tr>\n",
       "      <th>...</th>\n",
       "      <td>...</td>\n",
       "      <td>...</td>\n",
       "      <td>...</td>\n",
       "      <td>...</td>\n",
       "      <td>...</td>\n",
       "      <td>...</td>\n",
       "      <td>...</td>\n",
       "      <td>...</td>\n",
       "      <td>...</td>\n",
       "      <td>...</td>\n",
       "      <td>...</td>\n",
       "      <td>...</td>\n",
       "      <td>...</td>\n",
       "      <td>...</td>\n",
       "      <td>...</td>\n",
       "      <td>...</td>\n",
       "      <td>...</td>\n",
       "      <td>...</td>\n",
       "      <td>...</td>\n",
       "      <td>...</td>\n",
       "      <td>...</td>\n",
       "    </tr>\n",
       "    <tr>\n",
       "      <th>194260</th>\n",
       "      <td>1254060</td>\n",
       "      <td>2021</td>\n",
       "      <td>11-04-2021</td>\n",
       "      <td>MA Chidambaram Stadium, Chepauk, Chennai</td>\n",
       "      <td>2</td>\n",
       "      <td>5.2</td>\n",
       "      <td>Sunrisers Hyderabad</td>\n",
       "      <td>Kolkata Knight Riders</td>\n",
       "      <td>JM Bairstow</td>\n",
       "      <td>MK Pandey</td>\n",
       "      <td>...</td>\n",
       "      <td>0.0</td>\n",
       "      <td>0.0</td>\n",
       "      <td>0.0</td>\n",
       "      <td>0</td>\n",
       "      <td>0</td>\n",
       "      <td>6</td>\n",
       "      <td>0</td>\n",
       "      <td>33</td>\n",
       "      <td>0</td>\n",
       "      <td>0.0</td>\n",
       "    </tr>\n",
       "    <tr>\n",
       "      <th>194261</th>\n",
       "      <td>1254060</td>\n",
       "      <td>2021</td>\n",
       "      <td>11-04-2021</td>\n",
       "      <td>MA Chidambaram Stadium, Chepauk, Chennai</td>\n",
       "      <td>2</td>\n",
       "      <td>5.3</td>\n",
       "      <td>Sunrisers Hyderabad</td>\n",
       "      <td>Kolkata Knight Riders</td>\n",
       "      <td>JM Bairstow</td>\n",
       "      <td>MK Pandey</td>\n",
       "      <td>...</td>\n",
       "      <td>0.0</td>\n",
       "      <td>0.0</td>\n",
       "      <td>0.0</td>\n",
       "      <td>0</td>\n",
       "      <td>0</td>\n",
       "      <td>6</td>\n",
       "      <td>1</td>\n",
       "      <td>34</td>\n",
       "      <td>0</td>\n",
       "      <td>0.0</td>\n",
       "    </tr>\n",
       "    <tr>\n",
       "      <th>194262</th>\n",
       "      <td>1254060</td>\n",
       "      <td>2021</td>\n",
       "      <td>11-04-2021</td>\n",
       "      <td>MA Chidambaram Stadium, Chepauk, Chennai</td>\n",
       "      <td>2</td>\n",
       "      <td>5.4</td>\n",
       "      <td>Sunrisers Hyderabad</td>\n",
       "      <td>Kolkata Knight Riders</td>\n",
       "      <td>MK Pandey</td>\n",
       "      <td>JM Bairstow</td>\n",
       "      <td>...</td>\n",
       "      <td>0.0</td>\n",
       "      <td>0.0</td>\n",
       "      <td>0.0</td>\n",
       "      <td>0</td>\n",
       "      <td>0</td>\n",
       "      <td>6</td>\n",
       "      <td>0</td>\n",
       "      <td>34</td>\n",
       "      <td>0</td>\n",
       "      <td>0.0</td>\n",
       "    </tr>\n",
       "    <tr>\n",
       "      <th>194263</th>\n",
       "      <td>1254060</td>\n",
       "      <td>2021</td>\n",
       "      <td>11-04-2021</td>\n",
       "      <td>MA Chidambaram Stadium, Chepauk, Chennai</td>\n",
       "      <td>2</td>\n",
       "      <td>5.5</td>\n",
       "      <td>Sunrisers Hyderabad</td>\n",
       "      <td>Kolkata Knight Riders</td>\n",
       "      <td>MK Pandey</td>\n",
       "      <td>JM Bairstow</td>\n",
       "      <td>...</td>\n",
       "      <td>0.0</td>\n",
       "      <td>0.0</td>\n",
       "      <td>0.0</td>\n",
       "      <td>0</td>\n",
       "      <td>0</td>\n",
       "      <td>6</td>\n",
       "      <td>0</td>\n",
       "      <td>34</td>\n",
       "      <td>0</td>\n",
       "      <td>0.0</td>\n",
       "    </tr>\n",
       "    <tr>\n",
       "      <th>194264</th>\n",
       "      <td>1254060</td>\n",
       "      <td>2021</td>\n",
       "      <td>11-04-2021</td>\n",
       "      <td>MA Chidambaram Stadium, Chepauk, Chennai</td>\n",
       "      <td>2</td>\n",
       "      <td>5.6</td>\n",
       "      <td>Sunrisers Hyderabad</td>\n",
       "      <td>Kolkata Knight Riders</td>\n",
       "      <td>MK Pandey</td>\n",
       "      <td>JM Bairstow</td>\n",
       "      <td>...</td>\n",
       "      <td>0.0</td>\n",
       "      <td>0.0</td>\n",
       "      <td>0.0</td>\n",
       "      <td>0</td>\n",
       "      <td>0</td>\n",
       "      <td>6</td>\n",
       "      <td>1</td>\n",
       "      <td>35</td>\n",
       "      <td>0</td>\n",
       "      <td>0.0</td>\n",
       "    </tr>\n",
       "  </tbody>\n",
       "</table>\n",
       "<p>61158 rows × 24 columns</p>\n",
       "</div>"
      ],
      "text/plain": [
       "        match_id   season  start_date  \\\n",
       "0         335982  2007/08  18-04-2008   \n",
       "1         335982  2007/08  18-04-2008   \n",
       "2         335982  2007/08  18-04-2008   \n",
       "3         335982  2007/08  18-04-2008   \n",
       "4         335982  2007/08  18-04-2008   \n",
       "...          ...      ...         ...   \n",
       "194260   1254060     2021  11-04-2021   \n",
       "194261   1254060     2021  11-04-2021   \n",
       "194262   1254060     2021  11-04-2021   \n",
       "194263   1254060     2021  11-04-2021   \n",
       "194264   1254060     2021  11-04-2021   \n",
       "\n",
       "                                           venue  innings  ball  \\\n",
       "0                          M Chinnaswamy Stadium        1   0.1   \n",
       "1                          M Chinnaswamy Stadium        1   0.2   \n",
       "2                          M Chinnaswamy Stadium        1   0.3   \n",
       "3                          M Chinnaswamy Stadium        1   0.4   \n",
       "4                          M Chinnaswamy Stadium        1   0.5   \n",
       "...                                          ...      ...   ...   \n",
       "194260  MA Chidambaram Stadium, Chepauk, Chennai        2   5.2   \n",
       "194261  MA Chidambaram Stadium, Chepauk, Chennai        2   5.3   \n",
       "194262  MA Chidambaram Stadium, Chepauk, Chennai        2   5.4   \n",
       "194263  MA Chidambaram Stadium, Chepauk, Chennai        2   5.5   \n",
       "194264  MA Chidambaram Stadium, Chepauk, Chennai        2   5.6   \n",
       "\n",
       "                 batting_team                 bowling_team      striker  \\\n",
       "0       Kolkata Knight Riders  Royal Challengers Bangalore   SC Ganguly   \n",
       "1       Kolkata Knight Riders  Royal Challengers Bangalore  BB McCullum   \n",
       "2       Kolkata Knight Riders  Royal Challengers Bangalore  BB McCullum   \n",
       "3       Kolkata Knight Riders  Royal Challengers Bangalore  BB McCullum   \n",
       "4       Kolkata Knight Riders  Royal Challengers Bangalore  BB McCullum   \n",
       "...                       ...                          ...          ...   \n",
       "194260    Sunrisers Hyderabad        Kolkata Knight Riders  JM Bairstow   \n",
       "194261    Sunrisers Hyderabad        Kolkata Knight Riders  JM Bairstow   \n",
       "194262    Sunrisers Hyderabad        Kolkata Knight Riders    MK Pandey   \n",
       "194263    Sunrisers Hyderabad        Kolkata Knight Riders    MK Pandey   \n",
       "194264    Sunrisers Hyderabad        Kolkata Knight Riders    MK Pandey   \n",
       "\n",
       "        non_striker  ... noballs  byes  legbyes  wicket_type  \\\n",
       "0       BB McCullum  ...     0.0   0.0      1.0            0   \n",
       "1        SC Ganguly  ...     0.0   0.0      0.0            0   \n",
       "2        SC Ganguly  ...     0.0   0.0      0.0            0   \n",
       "3        SC Ganguly  ...     0.0   0.0      0.0            0   \n",
       "4        SC Ganguly  ...     0.0   0.0      0.0            0   \n",
       "...             ...  ...     ...   ...      ...          ...   \n",
       "194260    MK Pandey  ...     0.0   0.0      0.0            0   \n",
       "194261    MK Pandey  ...     0.0   0.0      0.0            0   \n",
       "194262  JM Bairstow  ...     0.0   0.0      0.0            0   \n",
       "194263  JM Bairstow  ...     0.0   0.0      0.0            0   \n",
       "194264  JM Bairstow  ...     0.0   0.0      0.0            0   \n",
       "\n",
       "        player_dismissed  overs  score total_score wicket  bowlers_wicket  \n",
       "0                      0      1      1           1      0             0.0  \n",
       "1                      0      1      0           1      0             0.0  \n",
       "2                      0      1      1           2      0             0.0  \n",
       "3                      0      1      0           2      0             0.0  \n",
       "4                      0      1      0           2      0             0.0  \n",
       "...                  ...    ...    ...         ...    ...             ...  \n",
       "194260                 0      6      0          33      0             0.0  \n",
       "194261                 0      6      1          34      0             0.0  \n",
       "194262                 0      6      0          34      0             0.0  \n",
       "194263                 0      6      0          34      0             0.0  \n",
       "194264                 0      6      1          35      0             0.0  \n",
       "\n",
       "[61158 rows x 24 columns]"
      ]
     },
     "execution_count": 13,
     "metadata": {},
     "output_type": "execute_result"
    }
   ],
   "source": [
    "df"
   ]
  },
  {
   "cell_type": "code",
   "execution_count": null,
   "metadata": {},
   "outputs": [],
   "source": []
  },
  {
   "cell_type": "code",
   "execution_count": 212,
   "metadata": {},
   "outputs": [],
   "source": [
    "batsman = pd.DataFrame(df['striker'].unique(),columns=['striker'])"
   ]
  },
  {
   "cell_type": "code",
   "execution_count": 213,
   "metadata": {},
   "outputs": [],
   "source": [
    "runs_batsman = df.groupby('striker')['score'].sum()"
   ]
  },
  {
   "cell_type": "code",
   "execution_count": 214,
   "metadata": {},
   "outputs": [],
   "source": [
    "batsman['runs']= batsman['striker'].apply(lambda x: runs_batsman[x])"
   ]
  },
  {
   "cell_type": "code",
   "execution_count": 215,
   "metadata": {},
   "outputs": [],
   "source": [
    "balls_faced = df.groupby('striker')['ball'].count()"
   ]
  },
  {
   "cell_type": "code",
   "execution_count": 216,
   "metadata": {},
   "outputs": [],
   "source": [
    "batsman['balls_faced']=batsman['striker'].apply(lambda x : balls_faced[x])"
   ]
  },
  {
   "cell_type": "code",
   "execution_count": 217,
   "metadata": {},
   "outputs": [],
   "source": [
    "batsman['strike_rate']=(batsman['runs']/batsman['balls_faced'])*100"
   ]
  },
  {
   "cell_type": "code",
   "execution_count": 218,
   "metadata": {},
   "outputs": [],
   "source": [
    "batsman['matches_played']=batsman['striker'].apply(lambda x: df[df['striker']==x]['match_id'].nunique())"
   ]
  },
  {
   "cell_type": "code",
   "execution_count": 219,
   "metadata": {},
   "outputs": [],
   "source": [
    "dismissals = df.groupby('player_dismissed')['wicket'].sum()"
   ]
  },
  {
   "cell_type": "code",
   "execution_count": 220,
   "metadata": {
    "scrolled": false
   },
   "outputs": [],
   "source": [
    "batsman['dismissals'] = batsman['striker'].apply(lambda x: dismissals[x] if x in dismissals else 0)"
   ]
  },
  {
   "cell_type": "code",
   "execution_count": 221,
   "metadata": {},
   "outputs": [],
   "source": [
    "batsman['avg_runs']=batsman['runs']/batsman['dismissals']"
   ]
  },
  {
   "cell_type": "code",
   "execution_count": 222,
   "metadata": {},
   "outputs": [],
   "source": [
    "batsman = batsman.replace(np.inf,0)"
   ]
  },
  {
   "cell_type": "code",
   "execution_count": 223,
   "metadata": {},
   "outputs": [
    {
     "data": {
      "text/plain": [
       "Index(['striker', 'runs', 'balls_faced', 'strike_rate', 'matches_played',\n",
       "       'dismissals', 'avg_runs'],\n",
       "      dtype='object')"
      ]
     },
     "execution_count": 223,
     "metadata": {},
     "output_type": "execute_result"
    }
   ],
   "source": [
    "batsman.columns"
   ]
  },
  {
   "cell_type": "code",
   "execution_count": 224,
   "metadata": {},
   "outputs": [],
   "source": [
    "non_striker_zero =[]\n",
    "for i in df['non_striker'].unique():\n",
    "    if(i not in df['striker'].unique()):\n",
    "        non_striker_zero += [i]"
   ]
  },
  {
   "cell_type": "code",
   "execution_count": 225,
   "metadata": {},
   "outputs": [],
   "source": [
    "non_striker_zero = pd.DataFrame(non_striker_zero,columns=['striker'])"
   ]
  },
  {
   "cell_type": "code",
   "execution_count": 226,
   "metadata": {},
   "outputs": [],
   "source": [
    "non_striker_zero['runs'] = 0"
   ]
  },
  {
   "cell_type": "code",
   "execution_count": 227,
   "metadata": {},
   "outputs": [],
   "source": [
    "non_striker_zero['balls_faced']=0"
   ]
  },
  {
   "cell_type": "code",
   "execution_count": 228,
   "metadata": {},
   "outputs": [],
   "source": [
    "non_striker_zero['strike_rate']=0"
   ]
  },
  {
   "cell_type": "code",
   "execution_count": 229,
   "metadata": {},
   "outputs": [],
   "source": [
    "non_striker_zero['matches_played']=non_striker_zero['striker'].apply(lambda x: df[df['non_striker']==x]['match_id'].nunique())"
   ]
  },
  {
   "cell_type": "code",
   "execution_count": 230,
   "metadata": {},
   "outputs": [],
   "source": [
    "non_striker_zero['dismissals']=0"
   ]
  },
  {
   "cell_type": "code",
   "execution_count": 231,
   "metadata": {},
   "outputs": [],
   "source": [
    "non_striker_zero['avg_runs']=0"
   ]
  },
  {
   "cell_type": "code",
   "execution_count": null,
   "metadata": {},
   "outputs": [],
   "source": []
  },
  {
   "cell_type": "code",
   "execution_count": 232,
   "metadata": {},
   "outputs": [],
   "source": [
    "batsman = batsman.append(non_striker_zero)"
   ]
  },
  {
   "cell_type": "code",
   "execution_count": 233,
   "metadata": {},
   "outputs": [],
   "source": [
    "batsman.reset_index(inplace=True)"
   ]
  },
  {
   "cell_type": "code",
   "execution_count": 234,
   "metadata": {},
   "outputs": [
    {
     "data": {
      "text/html": [
       "<div>\n",
       "<style scoped>\n",
       "    .dataframe tbody tr th:only-of-type {\n",
       "        vertical-align: middle;\n",
       "    }\n",
       "\n",
       "    .dataframe tbody tr th {\n",
       "        vertical-align: top;\n",
       "    }\n",
       "\n",
       "    .dataframe thead th {\n",
       "        text-align: right;\n",
       "    }\n",
       "</style>\n",
       "<table border=\"1\" class=\"dataframe\">\n",
       "  <thead>\n",
       "    <tr style=\"text-align: right;\">\n",
       "      <th></th>\n",
       "      <th>index</th>\n",
       "      <th>striker</th>\n",
       "      <th>runs</th>\n",
       "      <th>balls_faced</th>\n",
       "      <th>strike_rate</th>\n",
       "      <th>matches_played</th>\n",
       "      <th>dismissals</th>\n",
       "      <th>avg_runs</th>\n",
       "    </tr>\n",
       "  </thead>\n",
       "  <tbody>\n",
       "    <tr>\n",
       "      <th>0</th>\n",
       "      <td>0</td>\n",
       "      <td>SC Ganguly</td>\n",
       "      <td>571</td>\n",
       "      <td>540</td>\n",
       "      <td>105.740741</td>\n",
       "      <td>46</td>\n",
       "      <td>19</td>\n",
       "      <td>30.052632</td>\n",
       "    </tr>\n",
       "    <tr>\n",
       "      <th>1</th>\n",
       "      <td>1</td>\n",
       "      <td>BB McCullum</td>\n",
       "      <td>1688</td>\n",
       "      <td>1273</td>\n",
       "      <td>132.600157</td>\n",
       "      <td>104</td>\n",
       "      <td>57</td>\n",
       "      <td>29.614035</td>\n",
       "    </tr>\n",
       "    <tr>\n",
       "      <th>2</th>\n",
       "      <td>2</td>\n",
       "      <td>RT Ponting</td>\n",
       "      <td>47</td>\n",
       "      <td>75</td>\n",
       "      <td>62.666667</td>\n",
       "      <td>9</td>\n",
       "      <td>5</td>\n",
       "      <td>9.400000</td>\n",
       "    </tr>\n",
       "    <tr>\n",
       "      <th>3</th>\n",
       "      <td>3</td>\n",
       "      <td>R Dravid</td>\n",
       "      <td>970</td>\n",
       "      <td>855</td>\n",
       "      <td>113.450292</td>\n",
       "      <td>64</td>\n",
       "      <td>17</td>\n",
       "      <td>57.058824</td>\n",
       "    </tr>\n",
       "    <tr>\n",
       "      <th>4</th>\n",
       "      <td>4</td>\n",
       "      <td>W Jaffer</td>\n",
       "      <td>83</td>\n",
       "      <td>95</td>\n",
       "      <td>87.368421</td>\n",
       "      <td>8</td>\n",
       "      <td>6</td>\n",
       "      <td>13.833333</td>\n",
       "    </tr>\n",
       "    <tr>\n",
       "      <th>...</th>\n",
       "      <td>...</td>\n",
       "      <td>...</td>\n",
       "      <td>...</td>\n",
       "      <td>...</td>\n",
       "      <td>...</td>\n",
       "      <td>...</td>\n",
       "      <td>...</td>\n",
       "      <td>...</td>\n",
       "    </tr>\n",
       "    <tr>\n",
       "      <th>284</th>\n",
       "      <td>284</td>\n",
       "      <td>Washington Sundar</td>\n",
       "      <td>16</td>\n",
       "      <td>17</td>\n",
       "      <td>94.117647</td>\n",
       "      <td>1</td>\n",
       "      <td>1</td>\n",
       "      <td>16.000000</td>\n",
       "    </tr>\n",
       "    <tr>\n",
       "      <th>285</th>\n",
       "      <td>285</td>\n",
       "      <td>RM Patidar</td>\n",
       "      <td>9</td>\n",
       "      <td>9</td>\n",
       "      <td>100.000000</td>\n",
       "      <td>1</td>\n",
       "      <td>1</td>\n",
       "      <td>9.000000</td>\n",
       "    </tr>\n",
       "    <tr>\n",
       "      <th>286</th>\n",
       "      <td>0</td>\n",
       "      <td>TR Birt</td>\n",
       "      <td>0</td>\n",
       "      <td>0</td>\n",
       "      <td>0.000000</td>\n",
       "      <td>1</td>\n",
       "      <td>0</td>\n",
       "      <td>0.000000</td>\n",
       "    </tr>\n",
       "    <tr>\n",
       "      <th>287</th>\n",
       "      <td>1</td>\n",
       "      <td>MR Marsh</td>\n",
       "      <td>0</td>\n",
       "      <td>0</td>\n",
       "      <td>0.000000</td>\n",
       "      <td>1</td>\n",
       "      <td>0</td>\n",
       "      <td>0.000000</td>\n",
       "    </tr>\n",
       "    <tr>\n",
       "      <th>288</th>\n",
       "      <td>2</td>\n",
       "      <td>UT Yadav</td>\n",
       "      <td>0</td>\n",
       "      <td>0</td>\n",
       "      <td>0.000000</td>\n",
       "      <td>1</td>\n",
       "      <td>0</td>\n",
       "      <td>0.000000</td>\n",
       "    </tr>\n",
       "  </tbody>\n",
       "</table>\n",
       "<p>289 rows × 8 columns</p>\n",
       "</div>"
      ],
      "text/plain": [
       "     index            striker  runs  balls_faced  strike_rate  matches_played  \\\n",
       "0        0         SC Ganguly   571          540   105.740741              46   \n",
       "1        1        BB McCullum  1688         1273   132.600157             104   \n",
       "2        2         RT Ponting    47           75    62.666667               9   \n",
       "3        3           R Dravid   970          855   113.450292              64   \n",
       "4        4           W Jaffer    83           95    87.368421               8   \n",
       "..     ...                ...   ...          ...          ...             ...   \n",
       "284    284  Washington Sundar    16           17    94.117647               1   \n",
       "285    285         RM Patidar     9            9   100.000000               1   \n",
       "286      0            TR Birt     0            0     0.000000               1   \n",
       "287      1           MR Marsh     0            0     0.000000               1   \n",
       "288      2           UT Yadav     0            0     0.000000               1   \n",
       "\n",
       "     dismissals   avg_runs  \n",
       "0            19  30.052632  \n",
       "1            57  29.614035  \n",
       "2             5   9.400000  \n",
       "3            17  57.058824  \n",
       "4             6  13.833333  \n",
       "..          ...        ...  \n",
       "284           1  16.000000  \n",
       "285           1   9.000000  \n",
       "286           0   0.000000  \n",
       "287           0   0.000000  \n",
       "288           0   0.000000  \n",
       "\n",
       "[289 rows x 8 columns]"
      ]
     },
     "execution_count": 234,
     "metadata": {},
     "output_type": "execute_result"
    }
   ],
   "source": [
    "batsman"
   ]
  },
  {
   "cell_type": "code",
   "execution_count": 235,
   "metadata": {},
   "outputs": [],
   "source": [
    "batsman['striker']=batsman['striker'].astype(str)"
   ]
  },
  {
   "cell_type": "code",
   "execution_count": 238,
   "metadata": {
    "scrolled": false
   },
   "outputs": [],
   "source": [
    "batsman['striker'] = batsman['striker'].str.rstrip()"
   ]
  },
  {
   "cell_type": "code",
   "execution_count": 239,
   "metadata": {},
   "outputs": [],
   "source": [
    "new_player = pd.read_csv(r'playersList.csv')"
   ]
  },
  {
   "cell_type": "code",
   "execution_count": 118,
   "metadata": {},
   "outputs": [],
   "source": [
    "a = new_player['Players']"
   ]
  },
  {
   "cell_type": "code",
   "execution_count": 119,
   "metadata": {},
   "outputs": [],
   "source": [
    "b = batsman['striker']"
   ]
  },
  {
   "cell_type": "code",
   "execution_count": 253,
   "metadata": {},
   "outputs": [],
   "source": [
    "a =0"
   ]
  },
  {
   "cell_type": "code",
   "execution_count": 258,
   "metadata": {
    "scrolled": true
   },
   "outputs": [],
   "source": [
    "new_ = new_player['Players'].apply(lambda x: True if x.strip() not in batsman['striker'] else False )"
   ]
  },
  {
   "cell_type": "code",
   "execution_count": 259,
   "metadata": {},
   "outputs": [
    {
     "data": {
      "text/html": [
       "<div>\n",
       "<style scoped>\n",
       "    .dataframe tbody tr th:only-of-type {\n",
       "        vertical-align: middle;\n",
       "    }\n",
       "\n",
       "    .dataframe tbody tr th {\n",
       "        vertical-align: top;\n",
       "    }\n",
       "\n",
       "    .dataframe thead th {\n",
       "        text-align: right;\n",
       "    }\n",
       "</style>\n",
       "<table border=\"1\" class=\"dataframe\">\n",
       "  <thead>\n",
       "    <tr style=\"text-align: right;\">\n",
       "      <th></th>\n",
       "      <th>Players</th>\n",
       "    </tr>\n",
       "  </thead>\n",
       "  <tbody>\n",
       "    <tr>\n",
       "      <th>0</th>\n",
       "      <td>AM Rahane</td>\n",
       "    </tr>\n",
       "    <tr>\n",
       "      <th>1</th>\n",
       "      <td>RA Tripathi</td>\n",
       "    </tr>\n",
       "    <tr>\n",
       "      <th>2</th>\n",
       "      <td>MJ McClenaghan</td>\n",
       "    </tr>\n",
       "    <tr>\n",
       "      <th>3</th>\n",
       "      <td>SPD Smith</td>\n",
       "    </tr>\n",
       "    <tr>\n",
       "      <th>4</th>\n",
       "      <td>SL Malinga</td>\n",
       "    </tr>\n",
       "    <tr>\n",
       "      <th>...</th>\n",
       "      <td>...</td>\n",
       "    </tr>\n",
       "    <tr>\n",
       "      <th>578</th>\n",
       "      <td>SS Agarwal</td>\n",
       "    </tr>\n",
       "    <tr>\n",
       "      <th>579</th>\n",
       "      <td>NB Singh</td>\n",
       "    </tr>\n",
       "    <tr>\n",
       "      <th>580</th>\n",
       "      <td>MJ Henry</td>\n",
       "    </tr>\n",
       "    <tr>\n",
       "      <th>581</th>\n",
       "      <td>JL Denly</td>\n",
       "    </tr>\n",
       "    <tr>\n",
       "      <th>582</th>\n",
       "      <td>N Jagadeesan</td>\n",
       "    </tr>\n",
       "  </tbody>\n",
       "</table>\n",
       "<p>583 rows × 1 columns</p>\n",
       "</div>"
      ],
      "text/plain": [
       "            Players\n",
       "0         AM Rahane\n",
       "1       RA Tripathi\n",
       "2    MJ McClenaghan\n",
       "3         SPD Smith\n",
       "4        SL Malinga\n",
       "..              ...\n",
       "578      SS Agarwal\n",
       "579        NB Singh\n",
       "580        MJ Henry\n",
       "581        JL Denly\n",
       "582    N Jagadeesan\n",
       "\n",
       "[583 rows x 1 columns]"
      ]
     },
     "execution_count": 259,
     "metadata": {},
     "output_type": "execute_result"
    }
   ],
   "source": [
    "new_player[new_]"
   ]
  },
  {
   "cell_type": "code",
   "execution_count": 248,
   "metadata": {},
   "outputs": [
    {
     "data": {
      "text/plain": [
       "Players    True\n",
       "Name: 285, dtype: bool"
      ]
     },
     "execution_count": 248,
     "metadata": {},
     "output_type": "execute_result"
    }
   ],
   "source": [
    "new_player.iloc[285]==batsman['striker'].iloc[0]"
   ]
  },
  {
   "cell_type": "code",
   "execution_count": 249,
   "metadata": {},
   "outputs": [
    {
     "data": {
      "text/plain": [
       "'SC Ganguly'"
      ]
     },
     "execution_count": 249,
     "metadata": {},
     "output_type": "execute_result"
    }
   ],
   "source": [
    "batsman['striker'].iloc[0]"
   ]
  },
  {
   "cell_type": "code",
   "execution_count": 251,
   "metadata": {},
   "outputs": [
    {
     "data": {
      "text/plain": [
       "583"
      ]
     },
     "execution_count": 251,
     "metadata": {},
     "output_type": "execute_result"
    }
   ],
   "source": [
    "len(new_)"
   ]
  },
  {
   "cell_type": "code",
   "execution_count": null,
   "metadata": {},
   "outputs": [],
   "source": []
  },
  {
   "cell_type": "code",
   "execution_count": 161,
   "metadata": {},
   "outputs": [],
   "source": [
    "bowler=pd.DataFrame(df['bowler'].unique(),columns=['bowler'])"
   ]
  },
  {
   "cell_type": "code",
   "execution_count": 162,
   "metadata": {},
   "outputs": [],
   "source": [
    "balls_bowled = df.groupby('bowler')['ball'].count()"
   ]
  },
  {
   "cell_type": "code",
   "execution_count": 163,
   "metadata": {
    "scrolled": true
   },
   "outputs": [],
   "source": [
    "bowler['balls_bowled'] = bowler['bowler'].apply(lambda x : balls_bowled[x])"
   ]
  },
  {
   "cell_type": "code",
   "execution_count": 164,
   "metadata": {},
   "outputs": [],
   "source": [
    "wickets = df.groupby('bowler')['bowlers_wicket'].sum()"
   ]
  },
  {
   "cell_type": "code",
   "execution_count": 165,
   "metadata": {},
   "outputs": [],
   "source": [
    "bowler['wickets']= bowler['bowler'].apply(lambda x: wickets[x])"
   ]
  },
  {
   "cell_type": "code",
   "execution_count": 166,
   "metadata": {},
   "outputs": [],
   "source": [
    "bowler['strike_rate']=bowler['balls_bowled']/bowler['wickets']"
   ]
  },
  {
   "cell_type": "code",
   "execution_count": 167,
   "metadata": {},
   "outputs": [],
   "source": [
    "bowler = bowler.replace(np.inf,0)"
   ]
  },
  {
   "cell_type": "code",
   "execution_count": 168,
   "metadata": {},
   "outputs": [],
   "source": [
    "over = pd.DataFrame(df.groupby(['match_id','bowler'])['overs'].nunique())"
   ]
  },
  {
   "cell_type": "code",
   "execution_count": 169,
   "metadata": {},
   "outputs": [],
   "source": [
    "over.reset_index(inplace=True)"
   ]
  },
  {
   "cell_type": "code",
   "execution_count": 170,
   "metadata": {
    "scrolled": true
   },
   "outputs": [],
   "source": [
    "bowler['overs'] = bowler['bowler'].apply(lambda x: over[over['bowler']==x]['overs'].sum())"
   ]
  },
  {
   "cell_type": "code",
   "execution_count": 171,
   "metadata": {},
   "outputs": [],
   "source": [
    "bowler['runs_conceded'] = bowler['bowler'].apply(lambda x: df[df['bowler']==x]['score'].sum())"
   ]
  },
  {
   "cell_type": "code",
   "execution_count": 172,
   "metadata": {},
   "outputs": [],
   "source": [
    "bowler['economy'] = bowler['runs_conceded']/bowler['overs']"
   ]
  },
  {
   "cell_type": "code",
   "execution_count": 173,
   "metadata": {},
   "outputs": [],
   "source": [
    "bowler['bowling_avg'] = bowler['runs_conceded']/bowler['wickets']"
   ]
  },
  {
   "cell_type": "code",
   "execution_count": 174,
   "metadata": {},
   "outputs": [],
   "source": [
    "bowler = bowler.replace(np.inf,0)"
   ]
  },
  {
   "cell_type": "code",
   "execution_count": 175,
   "metadata": {},
   "outputs": [],
   "source": [
    "bowler.index = bowler['bowler']"
   ]
  },
  {
   "cell_type": "code",
   "execution_count": 176,
   "metadata": {},
   "outputs": [
    {
     "data": {
      "text/html": [
       "<div>\n",
       "<style scoped>\n",
       "    .dataframe tbody tr th:only-of-type {\n",
       "        vertical-align: middle;\n",
       "    }\n",
       "\n",
       "    .dataframe tbody tr th {\n",
       "        vertical-align: top;\n",
       "    }\n",
       "\n",
       "    .dataframe thead th {\n",
       "        text-align: right;\n",
       "    }\n",
       "</style>\n",
       "<table border=\"1\" class=\"dataframe\">\n",
       "  <thead>\n",
       "    <tr style=\"text-align: right;\">\n",
       "      <th></th>\n",
       "      <th>bowler</th>\n",
       "      <th>balls_bowled</th>\n",
       "      <th>wickets</th>\n",
       "      <th>strike_rate</th>\n",
       "      <th>overs</th>\n",
       "      <th>runs_conceded</th>\n",
       "      <th>economy</th>\n",
       "      <th>bowling_avg</th>\n",
       "    </tr>\n",
       "    <tr>\n",
       "      <th>bowler</th>\n",
       "      <th></th>\n",
       "      <th></th>\n",
       "      <th></th>\n",
       "      <th></th>\n",
       "      <th></th>\n",
       "      <th></th>\n",
       "      <th></th>\n",
       "      <th></th>\n",
       "    </tr>\n",
       "  </thead>\n",
       "  <tbody>\n",
       "    <tr>\n",
       "      <th>P Kumar</th>\n",
       "      <td>P Kumar</td>\n",
       "      <td>1642</td>\n",
       "      <td>40.0</td>\n",
       "      <td>41.050000</td>\n",
       "      <td>262</td>\n",
       "      <td>1813</td>\n",
       "      <td>6.919847</td>\n",
       "      <td>45.325000</td>\n",
       "    </tr>\n",
       "    <tr>\n",
       "      <th>Z Khan</th>\n",
       "      <td>Z Khan</td>\n",
       "      <td>1346</td>\n",
       "      <td>53.0</td>\n",
       "      <td>25.396226</td>\n",
       "      <td>217</td>\n",
       "      <td>1492</td>\n",
       "      <td>6.875576</td>\n",
       "      <td>28.150943</td>\n",
       "    </tr>\n",
       "    <tr>\n",
       "      <th>AA Noffke</th>\n",
       "      <td>AA Noffke</td>\n",
       "      <td>7</td>\n",
       "      <td>0.0</td>\n",
       "      <td>0.000000</td>\n",
       "      <td>1</td>\n",
       "      <td>23</td>\n",
       "      <td>23.000000</td>\n",
       "      <td>0.000000</td>\n",
       "    </tr>\n",
       "    <tr>\n",
       "      <th>AB Dinda</th>\n",
       "      <td>AB Dinda</td>\n",
       "      <td>855</td>\n",
       "      <td>33.0</td>\n",
       "      <td>25.909091</td>\n",
       "      <td>135</td>\n",
       "      <td>1010</td>\n",
       "      <td>7.481481</td>\n",
       "      <td>30.606061</td>\n",
       "    </tr>\n",
       "    <tr>\n",
       "      <th>I Sharma</th>\n",
       "      <td>I Sharma</td>\n",
       "      <td>1267</td>\n",
       "      <td>43.0</td>\n",
       "      <td>29.465116</td>\n",
       "      <td>203</td>\n",
       "      <td>1493</td>\n",
       "      <td>7.354680</td>\n",
       "      <td>34.720930</td>\n",
       "    </tr>\n",
       "    <tr>\n",
       "      <th>...</th>\n",
       "      <td>...</td>\n",
       "      <td>...</td>\n",
       "      <td>...</td>\n",
       "      <td>...</td>\n",
       "      <td>...</td>\n",
       "      <td>...</td>\n",
       "      <td>...</td>\n",
       "      <td>...</td>\n",
       "    </tr>\n",
       "    <tr>\n",
       "      <th>CJ Green</th>\n",
       "      <td>CJ Green</td>\n",
       "      <td>12</td>\n",
       "      <td>0.0</td>\n",
       "      <td>0.000000</td>\n",
       "      <td>2</td>\n",
       "      <td>16</td>\n",
       "      <td>8.000000</td>\n",
       "      <td>0.000000</td>\n",
       "    </tr>\n",
       "    <tr>\n",
       "      <th>DR Sams</th>\n",
       "      <td>DR Sams</td>\n",
       "      <td>33</td>\n",
       "      <td>0.0</td>\n",
       "      <td>0.000000</td>\n",
       "      <td>5</td>\n",
       "      <td>38</td>\n",
       "      <td>7.600000</td>\n",
       "      <td>0.000000</td>\n",
       "    </tr>\n",
       "    <tr>\n",
       "      <th>Monu Kumar</th>\n",
       "      <td>Monu Kumar</td>\n",
       "      <td>8</td>\n",
       "      <td>0.0</td>\n",
       "      <td>0.000000</td>\n",
       "      <td>1</td>\n",
       "      <td>7</td>\n",
       "      <td>7.000000</td>\n",
       "      <td>0.000000</td>\n",
       "    </tr>\n",
       "    <tr>\n",
       "      <th>KA Jamieson</th>\n",
       "      <td>KA Jamieson</td>\n",
       "      <td>12</td>\n",
       "      <td>0.0</td>\n",
       "      <td>0.000000</td>\n",
       "      <td>2</td>\n",
       "      <td>7</td>\n",
       "      <td>3.500000</td>\n",
       "      <td>0.000000</td>\n",
       "    </tr>\n",
       "    <tr>\n",
       "      <th>M Jansen</th>\n",
       "      <td>M Jansen</td>\n",
       "      <td>7</td>\n",
       "      <td>0.0</td>\n",
       "      <td>0.000000</td>\n",
       "      <td>1</td>\n",
       "      <td>14</td>\n",
       "      <td>14.000000</td>\n",
       "      <td>0.000000</td>\n",
       "    </tr>\n",
       "  </tbody>\n",
       "</table>\n",
       "<p>346 rows × 8 columns</p>\n",
       "</div>"
      ],
      "text/plain": [
       "                  bowler  balls_bowled  wickets  strike_rate  overs  \\\n",
       "bowler                                                                \n",
       "P Kumar          P Kumar          1642     40.0    41.050000    262   \n",
       "Z Khan            Z Khan          1346     53.0    25.396226    217   \n",
       "AA Noffke      AA Noffke             7      0.0     0.000000      1   \n",
       "AB Dinda        AB Dinda           855     33.0    25.909091    135   \n",
       "I Sharma        I Sharma          1267     43.0    29.465116    203   \n",
       "...                  ...           ...      ...          ...    ...   \n",
       "CJ Green        CJ Green            12      0.0     0.000000      2   \n",
       "DR Sams          DR Sams            33      0.0     0.000000      5   \n",
       "Monu Kumar    Monu Kumar             8      0.0     0.000000      1   \n",
       "KA Jamieson  KA Jamieson            12      0.0     0.000000      2   \n",
       "M Jansen        M Jansen             7      0.0     0.000000      1   \n",
       "\n",
       "             runs_conceded    economy  bowling_avg  \n",
       "bowler                                              \n",
       "P Kumar               1813   6.919847    45.325000  \n",
       "Z Khan                1492   6.875576    28.150943  \n",
       "AA Noffke               23  23.000000     0.000000  \n",
       "AB Dinda              1010   7.481481    30.606061  \n",
       "I Sharma              1493   7.354680    34.720930  \n",
       "...                    ...        ...          ...  \n",
       "CJ Green                16   8.000000     0.000000  \n",
       "DR Sams                 38   7.600000     0.000000  \n",
       "Monu Kumar               7   7.000000     0.000000  \n",
       "KA Jamieson              7   3.500000     0.000000  \n",
       "M Jansen                14  14.000000     0.000000  \n",
       "\n",
       "[346 rows x 8 columns]"
      ]
     },
     "execution_count": 176,
     "metadata": {},
     "output_type": "execute_result"
    }
   ],
   "source": [
    "bowler"
   ]
  },
  {
   "cell_type": "code",
   "execution_count": null,
   "metadata": {},
   "outputs": [],
   "source": []
  },
  {
   "cell_type": "code",
   "execution_count": 177,
   "metadata": {},
   "outputs": [],
   "source": [
    "venue = pd.DataFrame(df.groupby('venue')['score'].sum())"
   ]
  },
  {
   "cell_type": "code",
   "execution_count": 178,
   "metadata": {},
   "outputs": [],
   "source": [
    "venue['no_matches'] = df.groupby(['venue'])['match_id'].nunique()*2"
   ]
  },
  {
   "cell_type": "code",
   "execution_count": 179,
   "metadata": {},
   "outputs": [],
   "source": [
    "venue['avg_score'] = venue['score']/venue['no_matches']"
   ]
  },
  {
   "cell_type": "code",
   "execution_count": 180,
   "metadata": {},
   "outputs": [
    {
     "data": {
      "text/html": [
       "<div>\n",
       "<style scoped>\n",
       "    .dataframe tbody tr th:only-of-type {\n",
       "        vertical-align: middle;\n",
       "    }\n",
       "\n",
       "    .dataframe tbody tr th {\n",
       "        vertical-align: top;\n",
       "    }\n",
       "\n",
       "    .dataframe thead th {\n",
       "        text-align: right;\n",
       "    }\n",
       "</style>\n",
       "<table border=\"1\" class=\"dataframe\">\n",
       "  <thead>\n",
       "    <tr style=\"text-align: right;\">\n",
       "      <th></th>\n",
       "      <th>score</th>\n",
       "      <th>no_matches</th>\n",
       "      <th>avg_score</th>\n",
       "    </tr>\n",
       "    <tr>\n",
       "      <th>venue</th>\n",
       "      <th></th>\n",
       "      <th></th>\n",
       "      <th></th>\n",
       "    </tr>\n",
       "  </thead>\n",
       "  <tbody>\n",
       "    <tr>\n",
       "      <th>Arun Jaitley Stadium</th>\n",
       "      <td>1419</td>\n",
       "      <td>28</td>\n",
       "      <td>50.678571</td>\n",
       "    </tr>\n",
       "    <tr>\n",
       "      <th>Barabati Stadium</th>\n",
       "      <td>610</td>\n",
       "      <td>14</td>\n",
       "      <td>43.571429</td>\n",
       "    </tr>\n",
       "    <tr>\n",
       "      <th>Brabourne Stadium</th>\n",
       "      <td>1141</td>\n",
       "      <td>22</td>\n",
       "      <td>51.863636</td>\n",
       "    </tr>\n",
       "    <tr>\n",
       "      <th>Buffalo Park</th>\n",
       "      <td>237</td>\n",
       "      <td>6</td>\n",
       "      <td>39.500000</td>\n",
       "    </tr>\n",
       "    <tr>\n",
       "      <th>De Beers Diamond Oval</th>\n",
       "      <td>240</td>\n",
       "      <td>6</td>\n",
       "      <td>40.000000</td>\n",
       "    </tr>\n",
       "    <tr>\n",
       "      <th>Dr DY Patil Sports Academy</th>\n",
       "      <td>1439</td>\n",
       "      <td>34</td>\n",
       "      <td>42.323529</td>\n",
       "    </tr>\n",
       "    <tr>\n",
       "      <th>Dr. Y.S. Rajasekhara Reddy ACA-VDCA Cricket Stadium</th>\n",
       "      <td>1065</td>\n",
       "      <td>26</td>\n",
       "      <td>40.961538</td>\n",
       "    </tr>\n",
       "    <tr>\n",
       "      <th>Dubai International Cricket Stadium</th>\n",
       "      <td>2951</td>\n",
       "      <td>66</td>\n",
       "      <td>44.712121</td>\n",
       "    </tr>\n",
       "    <tr>\n",
       "      <th>Eden Gardens</th>\n",
       "      <td>7125</td>\n",
       "      <td>154</td>\n",
       "      <td>46.266234</td>\n",
       "    </tr>\n",
       "    <tr>\n",
       "      <th>Feroz Shah Kotla</th>\n",
       "      <td>5604</td>\n",
       "      <td>120</td>\n",
       "      <td>46.700000</td>\n",
       "    </tr>\n",
       "    <tr>\n",
       "      <th>Green Park</th>\n",
       "      <td>440</td>\n",
       "      <td>8</td>\n",
       "      <td>55.000000</td>\n",
       "    </tr>\n",
       "    <tr>\n",
       "      <th>Himachal Pradesh Cricket Association Stadium</th>\n",
       "      <td>730</td>\n",
       "      <td>18</td>\n",
       "      <td>40.555556</td>\n",
       "    </tr>\n",
       "    <tr>\n",
       "      <th>Holkar Cricket Stadium</th>\n",
       "      <td>931</td>\n",
       "      <td>18</td>\n",
       "      <td>51.722222</td>\n",
       "    </tr>\n",
       "    <tr>\n",
       "      <th>JSCA International Stadium Complex</th>\n",
       "      <td>543</td>\n",
       "      <td>14</td>\n",
       "      <td>38.785714</td>\n",
       "    </tr>\n",
       "    <tr>\n",
       "      <th>Kingsmead</th>\n",
       "      <td>1378</td>\n",
       "      <td>30</td>\n",
       "      <td>45.933333</td>\n",
       "    </tr>\n",
       "    <tr>\n",
       "      <th>M Chinnaswamy Stadium</th>\n",
       "      <td>5805</td>\n",
       "      <td>130</td>\n",
       "      <td>44.653846</td>\n",
       "    </tr>\n",
       "    <tr>\n",
       "      <th>M.Chinnaswamy Stadium</th>\n",
       "      <td>1483</td>\n",
       "      <td>30</td>\n",
       "      <td>49.433333</td>\n",
       "    </tr>\n",
       "    <tr>\n",
       "      <th>MA Chidambaram Stadium</th>\n",
       "      <td>781</td>\n",
       "      <td>18</td>\n",
       "      <td>43.388889</td>\n",
       "    </tr>\n",
       "    <tr>\n",
       "      <th>MA Chidambaram Stadium, Chepauk</th>\n",
       "      <td>4523</td>\n",
       "      <td>96</td>\n",
       "      <td>47.114583</td>\n",
       "    </tr>\n",
       "    <tr>\n",
       "      <th>MA Chidambaram Stadium, Chepauk, Chennai</th>\n",
       "      <td>172</td>\n",
       "      <td>4</td>\n",
       "      <td>43.000000</td>\n",
       "    </tr>\n",
       "    <tr>\n",
       "      <th>Maharashtra Cricket Association Stadium</th>\n",
       "      <td>1993</td>\n",
       "      <td>42</td>\n",
       "      <td>47.452381</td>\n",
       "    </tr>\n",
       "    <tr>\n",
       "      <th>Nehru Stadium</th>\n",
       "      <td>398</td>\n",
       "      <td>10</td>\n",
       "      <td>39.800000</td>\n",
       "    </tr>\n",
       "    <tr>\n",
       "      <th>New Wanderers Stadium</th>\n",
       "      <td>670</td>\n",
       "      <td>16</td>\n",
       "      <td>41.875000</td>\n",
       "    </tr>\n",
       "    <tr>\n",
       "      <th>Newlands</th>\n",
       "      <td>561</td>\n",
       "      <td>14</td>\n",
       "      <td>40.071429</td>\n",
       "    </tr>\n",
       "    <tr>\n",
       "      <th>OUTsurance Oval</th>\n",
       "      <td>134</td>\n",
       "      <td>4</td>\n",
       "      <td>33.500000</td>\n",
       "    </tr>\n",
       "    <tr>\n",
       "      <th>Punjab Cricket Association IS Bindra Stadium</th>\n",
       "      <td>1032</td>\n",
       "      <td>20</td>\n",
       "      <td>51.600000</td>\n",
       "    </tr>\n",
       "    <tr>\n",
       "      <th>Punjab Cricket Association IS Bindra Stadium, Mohali</th>\n",
       "      <td>1095</td>\n",
       "      <td>22</td>\n",
       "      <td>49.772727</td>\n",
       "    </tr>\n",
       "    <tr>\n",
       "      <th>Punjab Cricket Association Stadium, Mohali</th>\n",
       "      <td>3297</td>\n",
       "      <td>70</td>\n",
       "      <td>47.100000</td>\n",
       "    </tr>\n",
       "    <tr>\n",
       "      <th>Rajiv Gandhi International Stadium</th>\n",
       "      <td>1517</td>\n",
       "      <td>30</td>\n",
       "      <td>50.566667</td>\n",
       "    </tr>\n",
       "    <tr>\n",
       "      <th>Rajiv Gandhi International Stadium, Uppal</th>\n",
       "      <td>4318</td>\n",
       "      <td>98</td>\n",
       "      <td>44.061224</td>\n",
       "    </tr>\n",
       "    <tr>\n",
       "      <th>Sardar Patel Stadium, Motera</th>\n",
       "      <td>1127</td>\n",
       "      <td>24</td>\n",
       "      <td>46.958333</td>\n",
       "    </tr>\n",
       "    <tr>\n",
       "      <th>Saurashtra Cricket Association Stadium</th>\n",
       "      <td>1106</td>\n",
       "      <td>20</td>\n",
       "      <td>55.300000</td>\n",
       "    </tr>\n",
       "    <tr>\n",
       "      <th>Sawai Mansingh Stadium</th>\n",
       "      <td>4234</td>\n",
       "      <td>94</td>\n",
       "      <td>45.042553</td>\n",
       "    </tr>\n",
       "    <tr>\n",
       "      <th>Shaheed Veer Narayan Singh International Stadium</th>\n",
       "      <td>460</td>\n",
       "      <td>12</td>\n",
       "      <td>38.333333</td>\n",
       "    </tr>\n",
       "    <tr>\n",
       "      <th>Sharjah Cricket Stadium</th>\n",
       "      <td>1693</td>\n",
       "      <td>36</td>\n",
       "      <td>47.027778</td>\n",
       "    </tr>\n",
       "    <tr>\n",
       "      <th>Sheikh Zayed Stadium</th>\n",
       "      <td>2533</td>\n",
       "      <td>58</td>\n",
       "      <td>43.672414</td>\n",
       "    </tr>\n",
       "    <tr>\n",
       "      <th>St George's Park</th>\n",
       "      <td>627</td>\n",
       "      <td>14</td>\n",
       "      <td>44.785714</td>\n",
       "    </tr>\n",
       "    <tr>\n",
       "      <th>Subrata Roy Sahara Stadium</th>\n",
       "      <td>1424</td>\n",
       "      <td>34</td>\n",
       "      <td>41.882353</td>\n",
       "    </tr>\n",
       "    <tr>\n",
       "      <th>SuperSport Park</th>\n",
       "      <td>1086</td>\n",
       "      <td>24</td>\n",
       "      <td>45.250000</td>\n",
       "    </tr>\n",
       "    <tr>\n",
       "      <th>Vidarbha Cricket Association Stadium, Jamtha</th>\n",
       "      <td>265</td>\n",
       "      <td>6</td>\n",
       "      <td>44.166667</td>\n",
       "    </tr>\n",
       "    <tr>\n",
       "      <th>Wankhede Stadium</th>\n",
       "      <td>6659</td>\n",
       "      <td>146</td>\n",
       "      <td>45.609589</td>\n",
       "    </tr>\n",
       "    <tr>\n",
       "      <th>Wankhede Stadium, Mumbai</th>\n",
       "      <td>98</td>\n",
       "      <td>2</td>\n",
       "      <td>49.000000</td>\n",
       "    </tr>\n",
       "  </tbody>\n",
       "</table>\n",
       "</div>"
      ],
      "text/plain": [
       "                                                    score  no_matches  \\\n",
       "venue                                                                   \n",
       "Arun Jaitley Stadium                                 1419          28   \n",
       "Barabati Stadium                                      610          14   \n",
       "Brabourne Stadium                                    1141          22   \n",
       "Buffalo Park                                          237           6   \n",
       "De Beers Diamond Oval                                 240           6   \n",
       "Dr DY Patil Sports Academy                           1439          34   \n",
       "Dr. Y.S. Rajasekhara Reddy ACA-VDCA Cricket Sta...   1065          26   \n",
       "Dubai International Cricket Stadium                  2951          66   \n",
       "Eden Gardens                                         7125         154   \n",
       "Feroz Shah Kotla                                     5604         120   \n",
       "Green Park                                            440           8   \n",
       "Himachal Pradesh Cricket Association Stadium          730          18   \n",
       "Holkar Cricket Stadium                                931          18   \n",
       "JSCA International Stadium Complex                    543          14   \n",
       "Kingsmead                                            1378          30   \n",
       "M Chinnaswamy Stadium                                5805         130   \n",
       "M.Chinnaswamy Stadium                                1483          30   \n",
       "MA Chidambaram Stadium                                781          18   \n",
       "MA Chidambaram Stadium, Chepauk                      4523          96   \n",
       "MA Chidambaram Stadium, Chepauk, Chennai              172           4   \n",
       "Maharashtra Cricket Association Stadium              1993          42   \n",
       "Nehru Stadium                                         398          10   \n",
       "New Wanderers Stadium                                 670          16   \n",
       "Newlands                                              561          14   \n",
       "OUTsurance Oval                                       134           4   \n",
       "Punjab Cricket Association IS Bindra Stadium         1032          20   \n",
       "Punjab Cricket Association IS Bindra Stadium, M...   1095          22   \n",
       "Punjab Cricket Association Stadium, Mohali           3297          70   \n",
       "Rajiv Gandhi International Stadium                   1517          30   \n",
       "Rajiv Gandhi International Stadium, Uppal            4318          98   \n",
       "Sardar Patel Stadium, Motera                         1127          24   \n",
       "Saurashtra Cricket Association Stadium               1106          20   \n",
       "Sawai Mansingh Stadium                               4234          94   \n",
       "Shaheed Veer Narayan Singh International Stadium      460          12   \n",
       "Sharjah Cricket Stadium                              1693          36   \n",
       "Sheikh Zayed Stadium                                 2533          58   \n",
       "St George's Park                                      627          14   \n",
       "Subrata Roy Sahara Stadium                           1424          34   \n",
       "SuperSport Park                                      1086          24   \n",
       "Vidarbha Cricket Association Stadium, Jamtha          265           6   \n",
       "Wankhede Stadium                                     6659         146   \n",
       "Wankhede Stadium, Mumbai                               98           2   \n",
       "\n",
       "                                                    avg_score  \n",
       "venue                                                          \n",
       "Arun Jaitley Stadium                                50.678571  \n",
       "Barabati Stadium                                    43.571429  \n",
       "Brabourne Stadium                                   51.863636  \n",
       "Buffalo Park                                        39.500000  \n",
       "De Beers Diamond Oval                               40.000000  \n",
       "Dr DY Patil Sports Academy                          42.323529  \n",
       "Dr. Y.S. Rajasekhara Reddy ACA-VDCA Cricket Sta...  40.961538  \n",
       "Dubai International Cricket Stadium                 44.712121  \n",
       "Eden Gardens                                        46.266234  \n",
       "Feroz Shah Kotla                                    46.700000  \n",
       "Green Park                                          55.000000  \n",
       "Himachal Pradesh Cricket Association Stadium        40.555556  \n",
       "Holkar Cricket Stadium                              51.722222  \n",
       "JSCA International Stadium Complex                  38.785714  \n",
       "Kingsmead                                           45.933333  \n",
       "M Chinnaswamy Stadium                               44.653846  \n",
       "M.Chinnaswamy Stadium                               49.433333  \n",
       "MA Chidambaram Stadium                              43.388889  \n",
       "MA Chidambaram Stadium, Chepauk                     47.114583  \n",
       "MA Chidambaram Stadium, Chepauk, Chennai            43.000000  \n",
       "Maharashtra Cricket Association Stadium             47.452381  \n",
       "Nehru Stadium                                       39.800000  \n",
       "New Wanderers Stadium                               41.875000  \n",
       "Newlands                                            40.071429  \n",
       "OUTsurance Oval                                     33.500000  \n",
       "Punjab Cricket Association IS Bindra Stadium        51.600000  \n",
       "Punjab Cricket Association IS Bindra Stadium, M...  49.772727  \n",
       "Punjab Cricket Association Stadium, Mohali          47.100000  \n",
       "Rajiv Gandhi International Stadium                  50.566667  \n",
       "Rajiv Gandhi International Stadium, Uppal           44.061224  \n",
       "Sardar Patel Stadium, Motera                        46.958333  \n",
       "Saurashtra Cricket Association Stadium              55.300000  \n",
       "Sawai Mansingh Stadium                              45.042553  \n",
       "Shaheed Veer Narayan Singh International Stadium    38.333333  \n",
       "Sharjah Cricket Stadium                             47.027778  \n",
       "Sheikh Zayed Stadium                                43.672414  \n",
       "St George's Park                                    44.785714  \n",
       "Subrata Roy Sahara Stadium                          41.882353  \n",
       "SuperSport Park                                     45.250000  \n",
       "Vidarbha Cricket Association Stadium, Jamtha        44.166667  \n",
       "Wankhede Stadium                                    45.609589  \n",
       "Wankhede Stadium, Mumbai                            49.000000  "
      ]
     },
     "execution_count": 180,
     "metadata": {},
     "output_type": "execute_result"
    }
   ],
   "source": [
    "venue"
   ]
  },
  {
   "cell_type": "code",
   "execution_count": null,
   "metadata": {},
   "outputs": [],
   "source": []
  },
  {
   "cell_type": "code",
   "execution_count": 181,
   "metadata": {},
   "outputs": [],
   "source": [
    "batting_team = pd.DataFrame(df.groupby('batting_team')['score'].sum())"
   ]
  },
  {
   "cell_type": "code",
   "execution_count": 182,
   "metadata": {},
   "outputs": [],
   "source": [
    "batting_team.reset_index(inplace=True)"
   ]
  },
  {
   "cell_type": "code",
   "execution_count": 183,
   "metadata": {},
   "outputs": [],
   "source": [
    "batting_team.index = batting_team['batting_team']"
   ]
  },
  {
   "cell_type": "code",
   "execution_count": null,
   "metadata": {},
   "outputs": [],
   "source": []
  },
  {
   "cell_type": "code",
   "execution_count": 184,
   "metadata": {},
   "outputs": [],
   "source": [
    "batting_team['no_matches'] = batting_team['batting_team'].apply(lambda x: df[df['batting_team']==x]['match_id'].nunique())"
   ]
  },
  {
   "cell_type": "code",
   "execution_count": 185,
   "metadata": {},
   "outputs": [],
   "source": [
    "batting_team['avg_score'] = batting_team['score']/batting_team['no_matches']"
   ]
  },
  {
   "cell_type": "code",
   "execution_count": 186,
   "metadata": {},
   "outputs": [
    {
     "data": {
      "text/html": [
       "<div>\n",
       "<style scoped>\n",
       "    .dataframe tbody tr th:only-of-type {\n",
       "        vertical-align: middle;\n",
       "    }\n",
       "\n",
       "    .dataframe tbody tr th {\n",
       "        vertical-align: top;\n",
       "    }\n",
       "\n",
       "    .dataframe thead th {\n",
       "        text-align: right;\n",
       "    }\n",
       "</style>\n",
       "<table border=\"1\" class=\"dataframe\">\n",
       "  <thead>\n",
       "    <tr style=\"text-align: right;\">\n",
       "      <th></th>\n",
       "      <th>batting_team</th>\n",
       "      <th>score</th>\n",
       "      <th>no_matches</th>\n",
       "      <th>avg_score</th>\n",
       "    </tr>\n",
       "    <tr>\n",
       "      <th>batting_team</th>\n",
       "      <th></th>\n",
       "      <th></th>\n",
       "      <th></th>\n",
       "      <th></th>\n",
       "    </tr>\n",
       "  </thead>\n",
       "  <tbody>\n",
       "    <tr>\n",
       "      <th>Chennai Super Kings</th>\n",
       "      <td>Chennai Super Kings</td>\n",
       "      <td>8081</td>\n",
       "      <td>179</td>\n",
       "      <td>45.145251</td>\n",
       "    </tr>\n",
       "    <tr>\n",
       "      <th>Deccan Chargers</th>\n",
       "      <td>Deccan Chargers</td>\n",
       "      <td>3417</td>\n",
       "      <td>75</td>\n",
       "      <td>45.560000</td>\n",
       "    </tr>\n",
       "    <tr>\n",
       "      <th>Delhi Capitals</th>\n",
       "      <td>Delhi Capitals</td>\n",
       "      <td>1625</td>\n",
       "      <td>34</td>\n",
       "      <td>47.794118</td>\n",
       "    </tr>\n",
       "    <tr>\n",
       "      <th>Delhi Daredevils</th>\n",
       "      <td>Delhi Daredevils</td>\n",
       "      <td>7349</td>\n",
       "      <td>161</td>\n",
       "      <td>45.645963</td>\n",
       "    </tr>\n",
       "    <tr>\n",
       "      <th>Gujarat Lions</th>\n",
       "      <td>Gujarat Lions</td>\n",
       "      <td>1553</td>\n",
       "      <td>30</td>\n",
       "      <td>51.766667</td>\n",
       "    </tr>\n",
       "    <tr>\n",
       "      <th>Kings XI Punjab</th>\n",
       "      <td>Kings XI Punjab</td>\n",
       "      <td>8907</td>\n",
       "      <td>190</td>\n",
       "      <td>46.878947</td>\n",
       "    </tr>\n",
       "    <tr>\n",
       "      <th>Kochi Tuskers Kerala</th>\n",
       "      <td>Kochi Tuskers Kerala</td>\n",
       "      <td>680</td>\n",
       "      <td>14</td>\n",
       "      <td>48.571429</td>\n",
       "    </tr>\n",
       "    <tr>\n",
       "      <th>Kolkata Knight Riders</th>\n",
       "      <td>Kolkata Knight Riders</td>\n",
       "      <td>8921</td>\n",
       "      <td>193</td>\n",
       "      <td>46.222798</td>\n",
       "    </tr>\n",
       "    <tr>\n",
       "      <th>Mumbai Indians</th>\n",
       "      <td>Mumbai Indians</td>\n",
       "      <td>9245</td>\n",
       "      <td>204</td>\n",
       "      <td>45.318627</td>\n",
       "    </tr>\n",
       "    <tr>\n",
       "      <th>Pune Warriors</th>\n",
       "      <td>Pune Warriors</td>\n",
       "      <td>1895</td>\n",
       "      <td>45</td>\n",
       "      <td>42.111111</td>\n",
       "    </tr>\n",
       "    <tr>\n",
       "      <th>Rajasthan Royals</th>\n",
       "      <td>Rajasthan Royals</td>\n",
       "      <td>7151</td>\n",
       "      <td>160</td>\n",
       "      <td>44.693750</td>\n",
       "    </tr>\n",
       "    <tr>\n",
       "      <th>Rising Pune Supergiant</th>\n",
       "      <td>Rising Pune Supergiant</td>\n",
       "      <td>785</td>\n",
       "      <td>16</td>\n",
       "      <td>49.062500</td>\n",
       "    </tr>\n",
       "    <tr>\n",
       "      <th>Rising Pune Supergiants</th>\n",
       "      <td>Rising Pune Supergiants</td>\n",
       "      <td>638</td>\n",
       "      <td>14</td>\n",
       "      <td>45.571429</td>\n",
       "    </tr>\n",
       "    <tr>\n",
       "      <th>Royal Challengers Bangalore</th>\n",
       "      <td>Royal Challengers Bangalore</td>\n",
       "      <td>8745</td>\n",
       "      <td>196</td>\n",
       "      <td>44.617347</td>\n",
       "    </tr>\n",
       "    <tr>\n",
       "      <th>Sunrisers Hyderabad</th>\n",
       "      <td>Sunrisers Hyderabad</td>\n",
       "      <td>5952</td>\n",
       "      <td>125</td>\n",
       "      <td>47.616000</td>\n",
       "    </tr>\n",
       "  </tbody>\n",
       "</table>\n",
       "</div>"
      ],
      "text/plain": [
       "                                            batting_team  score  no_matches  \\\n",
       "batting_team                                                                  \n",
       "Chennai Super Kings                  Chennai Super Kings   8081         179   \n",
       "Deccan Chargers                          Deccan Chargers   3417          75   \n",
       "Delhi Capitals                            Delhi Capitals   1625          34   \n",
       "Delhi Daredevils                        Delhi Daredevils   7349         161   \n",
       "Gujarat Lions                              Gujarat Lions   1553          30   \n",
       "Kings XI Punjab                          Kings XI Punjab   8907         190   \n",
       "Kochi Tuskers Kerala                Kochi Tuskers Kerala    680          14   \n",
       "Kolkata Knight Riders              Kolkata Knight Riders   8921         193   \n",
       "Mumbai Indians                            Mumbai Indians   9245         204   \n",
       "Pune Warriors                              Pune Warriors   1895          45   \n",
       "Rajasthan Royals                        Rajasthan Royals   7151         160   \n",
       "Rising Pune Supergiant            Rising Pune Supergiant    785          16   \n",
       "Rising Pune Supergiants          Rising Pune Supergiants    638          14   \n",
       "Royal Challengers Bangalore  Royal Challengers Bangalore   8745         196   \n",
       "Sunrisers Hyderabad                  Sunrisers Hyderabad   5952         125   \n",
       "\n",
       "                             avg_score  \n",
       "batting_team                            \n",
       "Chennai Super Kings          45.145251  \n",
       "Deccan Chargers              45.560000  \n",
       "Delhi Capitals               47.794118  \n",
       "Delhi Daredevils             45.645963  \n",
       "Gujarat Lions                51.766667  \n",
       "Kings XI Punjab              46.878947  \n",
       "Kochi Tuskers Kerala         48.571429  \n",
       "Kolkata Knight Riders        46.222798  \n",
       "Mumbai Indians               45.318627  \n",
       "Pune Warriors                42.111111  \n",
       "Rajasthan Royals             44.693750  \n",
       "Rising Pune Supergiant       49.062500  \n",
       "Rising Pune Supergiants      45.571429  \n",
       "Royal Challengers Bangalore  44.617347  \n",
       "Sunrisers Hyderabad          47.616000  "
      ]
     },
     "execution_count": 186,
     "metadata": {},
     "output_type": "execute_result"
    }
   ],
   "source": [
    "batting_team"
   ]
  },
  {
   "cell_type": "code",
   "execution_count": 187,
   "metadata": {},
   "outputs": [
    {
     "data": {
      "text/html": [
       "<div>\n",
       "<style scoped>\n",
       "    .dataframe tbody tr th:only-of-type {\n",
       "        vertical-align: middle;\n",
       "    }\n",
       "\n",
       "    .dataframe tbody tr th {\n",
       "        vertical-align: top;\n",
       "    }\n",
       "\n",
       "    .dataframe thead th {\n",
       "        text-align: right;\n",
       "    }\n",
       "</style>\n",
       "<table border=\"1\" class=\"dataframe\">\n",
       "  <thead>\n",
       "    <tr style=\"text-align: right;\">\n",
       "      <th></th>\n",
       "      <th>index</th>\n",
       "      <th>striker</th>\n",
       "      <th>runs</th>\n",
       "      <th>balls_faced</th>\n",
       "      <th>strike_rate</th>\n",
       "      <th>matches_played</th>\n",
       "      <th>dismissals</th>\n",
       "      <th>avg_runs</th>\n",
       "    </tr>\n",
       "    <tr>\n",
       "      <th>striker</th>\n",
       "      <th></th>\n",
       "      <th></th>\n",
       "      <th></th>\n",
       "      <th></th>\n",
       "      <th></th>\n",
       "      <th></th>\n",
       "      <th></th>\n",
       "      <th></th>\n",
       "    </tr>\n",
       "  </thead>\n",
       "  <tbody>\n",
       "    <tr>\n",
       "      <th>TR Birt</th>\n",
       "      <td>0</td>\n",
       "      <td>TR Birt</td>\n",
       "      <td>0</td>\n",
       "      <td>0</td>\n",
       "      <td>0.0</td>\n",
       "      <td>1</td>\n",
       "      <td>0</td>\n",
       "      <td>0.0</td>\n",
       "    </tr>\n",
       "  </tbody>\n",
       "</table>\n",
       "</div>"
      ],
      "text/plain": [
       "         index  striker  runs  balls_faced  strike_rate  matches_played  \\\n",
       "striker                                                                   \n",
       "TR Birt      0  TR Birt     0            0          0.0               1   \n",
       "\n",
       "         dismissals  avg_runs  \n",
       "striker                        \n",
       "TR Birt           0       0.0  "
      ]
     },
     "execution_count": 187,
     "metadata": {},
     "output_type": "execute_result"
    }
   ],
   "source": [
    "batsman[batsman['striker']=='TR Birt']"
   ]
  },
  {
   "cell_type": "code",
   "execution_count": null,
   "metadata": {},
   "outputs": [],
   "source": []
  },
  {
   "cell_type": "code",
   "execution_count": 188,
   "metadata": {},
   "outputs": [],
   "source": [
    "bowling_team = pd.DataFrame(df.groupby('bowling_team')['score'].sum())"
   ]
  },
  {
   "cell_type": "code",
   "execution_count": 189,
   "metadata": {},
   "outputs": [],
   "source": [
    "bowling_team.reset_index(inplace=True)"
   ]
  },
  {
   "cell_type": "code",
   "execution_count": 190,
   "metadata": {},
   "outputs": [],
   "source": [
    "bowling_team.index = bowling_team['bowling_team']"
   ]
  },
  {
   "cell_type": "code",
   "execution_count": 191,
   "metadata": {},
   "outputs": [],
   "source": [
    "bowling_team['no_matches'] = bowling_team['bowling_team'].apply(lambda x: df[df['bowling_team']==x]['match_id'].nunique())"
   ]
  },
  {
   "cell_type": "code",
   "execution_count": 192,
   "metadata": {},
   "outputs": [],
   "source": [
    "bowling_team['avg_score_conceded'] = bowling_team['score']/bowling_team['no_matches']"
   ]
  },
  {
   "cell_type": "code",
   "execution_count": 193,
   "metadata": {},
   "outputs": [
    {
     "data": {
      "text/html": [
       "<div>\n",
       "<style scoped>\n",
       "    .dataframe tbody tr th:only-of-type {\n",
       "        vertical-align: middle;\n",
       "    }\n",
       "\n",
       "    .dataframe tbody tr th {\n",
       "        vertical-align: top;\n",
       "    }\n",
       "\n",
       "    .dataframe thead th {\n",
       "        text-align: right;\n",
       "    }\n",
       "</style>\n",
       "<table border=\"1\" class=\"dataframe\">\n",
       "  <thead>\n",
       "    <tr style=\"text-align: right;\">\n",
       "      <th></th>\n",
       "      <th>bowling_team</th>\n",
       "      <th>score</th>\n",
       "      <th>no_matches</th>\n",
       "      <th>avg_score_conceded</th>\n",
       "    </tr>\n",
       "    <tr>\n",
       "      <th>bowling_team</th>\n",
       "      <th></th>\n",
       "      <th></th>\n",
       "      <th></th>\n",
       "      <th></th>\n",
       "    </tr>\n",
       "  </thead>\n",
       "  <tbody>\n",
       "    <tr>\n",
       "      <th>Chennai Super Kings</th>\n",
       "      <td>Chennai Super Kings</td>\n",
       "      <td>8228</td>\n",
       "      <td>179</td>\n",
       "      <td>45.966480</td>\n",
       "    </tr>\n",
       "    <tr>\n",
       "      <th>Deccan Chargers</th>\n",
       "      <td>Deccan Chargers</td>\n",
       "      <td>3228</td>\n",
       "      <td>75</td>\n",
       "      <td>43.040000</td>\n",
       "    </tr>\n",
       "    <tr>\n",
       "      <th>Delhi Capitals</th>\n",
       "      <td>Delhi Capitals</td>\n",
       "      <td>1590</td>\n",
       "      <td>34</td>\n",
       "      <td>46.764706</td>\n",
       "    </tr>\n",
       "    <tr>\n",
       "      <th>Delhi Daredevils</th>\n",
       "      <td>Delhi Daredevils</td>\n",
       "      <td>7471</td>\n",
       "      <td>160</td>\n",
       "      <td>46.693750</td>\n",
       "    </tr>\n",
       "    <tr>\n",
       "      <th>Gujarat Lions</th>\n",
       "      <td>Gujarat Lions</td>\n",
       "      <td>1490</td>\n",
       "      <td>30</td>\n",
       "      <td>49.666667</td>\n",
       "    </tr>\n",
       "    <tr>\n",
       "      <th>Kings XI Punjab</th>\n",
       "      <td>Kings XI Punjab</td>\n",
       "      <td>9103</td>\n",
       "      <td>190</td>\n",
       "      <td>47.910526</td>\n",
       "    </tr>\n",
       "    <tr>\n",
       "      <th>Kochi Tuskers Kerala</th>\n",
       "      <td>Kochi Tuskers Kerala</td>\n",
       "      <td>593</td>\n",
       "      <td>14</td>\n",
       "      <td>42.357143</td>\n",
       "    </tr>\n",
       "    <tr>\n",
       "      <th>Kolkata Knight Riders</th>\n",
       "      <td>Kolkata Knight Riders</td>\n",
       "      <td>8897</td>\n",
       "      <td>193</td>\n",
       "      <td>46.098446</td>\n",
       "    </tr>\n",
       "    <tr>\n",
       "      <th>Mumbai Indians</th>\n",
       "      <td>Mumbai Indians</td>\n",
       "      <td>8914</td>\n",
       "      <td>204</td>\n",
       "      <td>43.696078</td>\n",
       "    </tr>\n",
       "    <tr>\n",
       "      <th>Pune Warriors</th>\n",
       "      <td>Pune Warriors</td>\n",
       "      <td>1986</td>\n",
       "      <td>46</td>\n",
       "      <td>43.173913</td>\n",
       "    </tr>\n",
       "    <tr>\n",
       "      <th>Rajasthan Royals</th>\n",
       "      <td>Rajasthan Royals</td>\n",
       "      <td>7416</td>\n",
       "      <td>161</td>\n",
       "      <td>46.062112</td>\n",
       "    </tr>\n",
       "    <tr>\n",
       "      <th>Rising Pune Supergiant</th>\n",
       "      <td>Rising Pune Supergiant</td>\n",
       "      <td>758</td>\n",
       "      <td>16</td>\n",
       "      <td>47.375000</td>\n",
       "    </tr>\n",
       "    <tr>\n",
       "      <th>Rising Pune Supergiants</th>\n",
       "      <td>Rising Pune Supergiants</td>\n",
       "      <td>676</td>\n",
       "      <td>14</td>\n",
       "      <td>48.285714</td>\n",
       "    </tr>\n",
       "    <tr>\n",
       "      <th>Royal Challengers Bangalore</th>\n",
       "      <td>Royal Challengers Bangalore</td>\n",
       "      <td>9020</td>\n",
       "      <td>195</td>\n",
       "      <td>46.256410</td>\n",
       "    </tr>\n",
       "    <tr>\n",
       "      <th>Sunrisers Hyderabad</th>\n",
       "      <td>Sunrisers Hyderabad</td>\n",
       "      <td>5574</td>\n",
       "      <td>125</td>\n",
       "      <td>44.592000</td>\n",
       "    </tr>\n",
       "  </tbody>\n",
       "</table>\n",
       "</div>"
      ],
      "text/plain": [
       "                                            bowling_team  score  no_matches  \\\n",
       "bowling_team                                                                  \n",
       "Chennai Super Kings                  Chennai Super Kings   8228         179   \n",
       "Deccan Chargers                          Deccan Chargers   3228          75   \n",
       "Delhi Capitals                            Delhi Capitals   1590          34   \n",
       "Delhi Daredevils                        Delhi Daredevils   7471         160   \n",
       "Gujarat Lions                              Gujarat Lions   1490          30   \n",
       "Kings XI Punjab                          Kings XI Punjab   9103         190   \n",
       "Kochi Tuskers Kerala                Kochi Tuskers Kerala    593          14   \n",
       "Kolkata Knight Riders              Kolkata Knight Riders   8897         193   \n",
       "Mumbai Indians                            Mumbai Indians   8914         204   \n",
       "Pune Warriors                              Pune Warriors   1986          46   \n",
       "Rajasthan Royals                        Rajasthan Royals   7416         161   \n",
       "Rising Pune Supergiant            Rising Pune Supergiant    758          16   \n",
       "Rising Pune Supergiants          Rising Pune Supergiants    676          14   \n",
       "Royal Challengers Bangalore  Royal Challengers Bangalore   9020         195   \n",
       "Sunrisers Hyderabad                  Sunrisers Hyderabad   5574         125   \n",
       "\n",
       "                             avg_score_conceded  \n",
       "bowling_team                                     \n",
       "Chennai Super Kings                   45.966480  \n",
       "Deccan Chargers                       43.040000  \n",
       "Delhi Capitals                        46.764706  \n",
       "Delhi Daredevils                      46.693750  \n",
       "Gujarat Lions                         49.666667  \n",
       "Kings XI Punjab                       47.910526  \n",
       "Kochi Tuskers Kerala                  42.357143  \n",
       "Kolkata Knight Riders                 46.098446  \n",
       "Mumbai Indians                        43.696078  \n",
       "Pune Warriors                         43.173913  \n",
       "Rajasthan Royals                      46.062112  \n",
       "Rising Pune Supergiant                47.375000  \n",
       "Rising Pune Supergiants               48.285714  \n",
       "Royal Challengers Bangalore           46.256410  \n",
       "Sunrisers Hyderabad                   44.592000  "
      ]
     },
     "execution_count": 193,
     "metadata": {},
     "output_type": "execute_result"
    }
   ],
   "source": [
    "bowling_team"
   ]
  },
  {
   "cell_type": "code",
   "execution_count": null,
   "metadata": {},
   "outputs": [],
   "source": []
  },
  {
   "cell_type": "code",
   "execution_count": 194,
   "metadata": {},
   "outputs": [],
   "source": [
    "df1 = df[['venue','innings','batting_team','bowling_team','striker','non_striker','bowler','score']]"
   ]
  },
  {
   "cell_type": "code",
   "execution_count": 195,
   "metadata": {},
   "outputs": [
    {
     "name": "stderr",
     "output_type": "stream",
     "text": [
      "<ipython-input-195-b225eae5d776>:1: SettingWithCopyWarning: \n",
      "A value is trying to be set on a copy of a slice from a DataFrame.\n",
      "Try using .loc[row_indexer,col_indexer] = value instead\n",
      "\n",
      "See the caveats in the documentation: https://pandas.pydata.org/pandas-docs/stable/user_guide/indexing.html#returning-a-view-versus-a-copy\n",
      "  df1['striker'] = df1['striker'].replace(batsman['strike_rate'])\n"
     ]
    }
   ],
   "source": [
    "df1['striker'] = df1['striker'].replace(batsman['strike_rate'])"
   ]
  },
  {
   "cell_type": "code",
   "execution_count": 196,
   "metadata": {
    "scrolled": true
   },
   "outputs": [
    {
     "name": "stderr",
     "output_type": "stream",
     "text": [
      "<ipython-input-196-53b111791819>:1: SettingWithCopyWarning: \n",
      "A value is trying to be set on a copy of a slice from a DataFrame.\n",
      "Try using .loc[row_indexer,col_indexer] = value instead\n",
      "\n",
      "See the caveats in the documentation: https://pandas.pydata.org/pandas-docs/stable/user_guide/indexing.html#returning-a-view-versus-a-copy\n",
      "  df1['non_striker'] = df1['non_striker'].replace(batsman['strike_rate'])\n"
     ]
    }
   ],
   "source": [
    "df1['non_striker'] = df1['non_striker'].replace(batsman['strike_rate'])"
   ]
  },
  {
   "cell_type": "code",
   "execution_count": 197,
   "metadata": {},
   "outputs": [
    {
     "name": "stderr",
     "output_type": "stream",
     "text": [
      "<ipython-input-197-7dff4a34ada9>:1: SettingWithCopyWarning: \n",
      "A value is trying to be set on a copy of a slice from a DataFrame.\n",
      "Try using .loc[row_indexer,col_indexer] = value instead\n",
      "\n",
      "See the caveats in the documentation: https://pandas.pydata.org/pandas-docs/stable/user_guide/indexing.html#returning-a-view-versus-a-copy\n",
      "  df1['bowler'] = df1['bowler'].replace(bowler['economy'])\n"
     ]
    }
   ],
   "source": [
    "df1['bowler'] = df1['bowler'].replace(bowler['economy'])"
   ]
  },
  {
   "cell_type": "code",
   "execution_count": 198,
   "metadata": {},
   "outputs": [
    {
     "name": "stderr",
     "output_type": "stream",
     "text": [
      "<ipython-input-198-a56d82ade005>:1: SettingWithCopyWarning: \n",
      "A value is trying to be set on a copy of a slice from a DataFrame.\n",
      "Try using .loc[row_indexer,col_indexer] = value instead\n",
      "\n",
      "See the caveats in the documentation: https://pandas.pydata.org/pandas-docs/stable/user_guide/indexing.html#returning-a-view-versus-a-copy\n",
      "  df1['venue'] = df1['venue'].replace(venue['avg_score'])\n"
     ]
    }
   ],
   "source": [
    "df1['venue'] = df1['venue'].replace(venue['avg_score'])"
   ]
  },
  {
   "cell_type": "code",
   "execution_count": 199,
   "metadata": {},
   "outputs": [
    {
     "data": {
      "text/plain": [
       "batting_team\n",
       "Chennai Super Kings            45.145251\n",
       "Deccan Chargers                45.560000\n",
       "Delhi Capitals                 47.794118\n",
       "Delhi Daredevils               45.645963\n",
       "Gujarat Lions                  51.766667\n",
       "Kings XI Punjab                46.878947\n",
       "Kochi Tuskers Kerala           48.571429\n",
       "Kolkata Knight Riders          46.222798\n",
       "Mumbai Indians                 45.318627\n",
       "Pune Warriors                  42.111111\n",
       "Rajasthan Royals               44.693750\n",
       "Rising Pune Supergiant         49.062500\n",
       "Rising Pune Supergiants        45.571429\n",
       "Royal Challengers Bangalore    44.617347\n",
       "Sunrisers Hyderabad            47.616000\n",
       "Name: avg_score, dtype: float64"
      ]
     },
     "execution_count": 199,
     "metadata": {},
     "output_type": "execute_result"
    }
   ],
   "source": [
    "batting_team['avg_score']"
   ]
  },
  {
   "cell_type": "code",
   "execution_count": 200,
   "metadata": {
    "scrolled": true
   },
   "outputs": [
    {
     "name": "stderr",
     "output_type": "stream",
     "text": [
      "<ipython-input-200-1ea7485e80e0>:1: SettingWithCopyWarning: \n",
      "A value is trying to be set on a copy of a slice from a DataFrame.\n",
      "Try using .loc[row_indexer,col_indexer] = value instead\n",
      "\n",
      "See the caveats in the documentation: https://pandas.pydata.org/pandas-docs/stable/user_guide/indexing.html#returning-a-view-versus-a-copy\n",
      "  df1['batting_team'] = df1['batting_team'].replace(batting_team['avg_score'])\n"
     ]
    }
   ],
   "source": [
    "df1['batting_team'] = df1['batting_team'].replace(batting_team['avg_score'])"
   ]
  },
  {
   "cell_type": "code",
   "execution_count": 201,
   "metadata": {},
   "outputs": [
    {
     "name": "stderr",
     "output_type": "stream",
     "text": [
      "<ipython-input-201-db31c42c8865>:1: SettingWithCopyWarning: \n",
      "A value is trying to be set on a copy of a slice from a DataFrame.\n",
      "Try using .loc[row_indexer,col_indexer] = value instead\n",
      "\n",
      "See the caveats in the documentation: https://pandas.pydata.org/pandas-docs/stable/user_guide/indexing.html#returning-a-view-versus-a-copy\n",
      "  df1['bowling_team'] = df1['bowling_team'].replace(bowling_team['avg_score_conceded'])\n"
     ]
    }
   ],
   "source": [
    "df1['bowling_team'] = df1['bowling_team'].replace(bowling_team['avg_score_conceded'])"
   ]
  },
  {
   "cell_type": "code",
   "execution_count": 202,
   "metadata": {},
   "outputs": [
    {
     "data": {
      "text/html": [
       "<div>\n",
       "<style scoped>\n",
       "    .dataframe tbody tr th:only-of-type {\n",
       "        vertical-align: middle;\n",
       "    }\n",
       "\n",
       "    .dataframe tbody tr th {\n",
       "        vertical-align: top;\n",
       "    }\n",
       "\n",
       "    .dataframe thead th {\n",
       "        text-align: right;\n",
       "    }\n",
       "</style>\n",
       "<table border=\"1\" class=\"dataframe\">\n",
       "  <thead>\n",
       "    <tr style=\"text-align: right;\">\n",
       "      <th></th>\n",
       "      <th>venue</th>\n",
       "      <th>innings</th>\n",
       "      <th>batting_team</th>\n",
       "      <th>bowling_team</th>\n",
       "      <th>striker</th>\n",
       "      <th>non_striker</th>\n",
       "      <th>bowler</th>\n",
       "      <th>score</th>\n",
       "    </tr>\n",
       "  </thead>\n",
       "  <tbody>\n",
       "    <tr>\n",
       "      <th>0</th>\n",
       "      <td>44.653846</td>\n",
       "      <td>1</td>\n",
       "      <td>46.222798</td>\n",
       "      <td>46.256410</td>\n",
       "      <td>105.740741</td>\n",
       "      <td>132.600157</td>\n",
       "      <td>6.919847</td>\n",
       "      <td>1</td>\n",
       "    </tr>\n",
       "    <tr>\n",
       "      <th>1</th>\n",
       "      <td>44.653846</td>\n",
       "      <td>1</td>\n",
       "      <td>46.222798</td>\n",
       "      <td>46.256410</td>\n",
       "      <td>132.600157</td>\n",
       "      <td>105.740741</td>\n",
       "      <td>6.919847</td>\n",
       "      <td>0</td>\n",
       "    </tr>\n",
       "    <tr>\n",
       "      <th>2</th>\n",
       "      <td>44.653846</td>\n",
       "      <td>1</td>\n",
       "      <td>46.222798</td>\n",
       "      <td>46.256410</td>\n",
       "      <td>132.600157</td>\n",
       "      <td>105.740741</td>\n",
       "      <td>6.919847</td>\n",
       "      <td>1</td>\n",
       "    </tr>\n",
       "    <tr>\n",
       "      <th>3</th>\n",
       "      <td>44.653846</td>\n",
       "      <td>1</td>\n",
       "      <td>46.222798</td>\n",
       "      <td>46.256410</td>\n",
       "      <td>132.600157</td>\n",
       "      <td>105.740741</td>\n",
       "      <td>6.919847</td>\n",
       "      <td>0</td>\n",
       "    </tr>\n",
       "    <tr>\n",
       "      <th>4</th>\n",
       "      <td>44.653846</td>\n",
       "      <td>1</td>\n",
       "      <td>46.222798</td>\n",
       "      <td>46.256410</td>\n",
       "      <td>132.600157</td>\n",
       "      <td>105.740741</td>\n",
       "      <td>6.919847</td>\n",
       "      <td>0</td>\n",
       "    </tr>\n",
       "    <tr>\n",
       "      <th>...</th>\n",
       "      <td>...</td>\n",
       "      <td>...</td>\n",
       "      <td>...</td>\n",
       "      <td>...</td>\n",
       "      <td>...</td>\n",
       "      <td>...</td>\n",
       "      <td>...</td>\n",
       "      <td>...</td>\n",
       "    </tr>\n",
       "    <tr>\n",
       "      <th>194260</th>\n",
       "      <td>43.000000</td>\n",
       "      <td>2</td>\n",
       "      <td>47.616000</td>\n",
       "      <td>46.098446</td>\n",
       "      <td>134.000000</td>\n",
       "      <td>116.872891</td>\n",
       "      <td>7.964912</td>\n",
       "      <td>0</td>\n",
       "    </tr>\n",
       "    <tr>\n",
       "      <th>194261</th>\n",
       "      <td>43.000000</td>\n",
       "      <td>2</td>\n",
       "      <td>47.616000</td>\n",
       "      <td>46.098446</td>\n",
       "      <td>134.000000</td>\n",
       "      <td>116.872891</td>\n",
       "      <td>7.964912</td>\n",
       "      <td>1</td>\n",
       "    </tr>\n",
       "    <tr>\n",
       "      <th>194262</th>\n",
       "      <td>43.000000</td>\n",
       "      <td>2</td>\n",
       "      <td>47.616000</td>\n",
       "      <td>46.098446</td>\n",
       "      <td>116.872891</td>\n",
       "      <td>134.000000</td>\n",
       "      <td>7.964912</td>\n",
       "      <td>0</td>\n",
       "    </tr>\n",
       "    <tr>\n",
       "      <th>194263</th>\n",
       "      <td>43.000000</td>\n",
       "      <td>2</td>\n",
       "      <td>47.616000</td>\n",
       "      <td>46.098446</td>\n",
       "      <td>116.872891</td>\n",
       "      <td>134.000000</td>\n",
       "      <td>7.964912</td>\n",
       "      <td>0</td>\n",
       "    </tr>\n",
       "    <tr>\n",
       "      <th>194264</th>\n",
       "      <td>43.000000</td>\n",
       "      <td>2</td>\n",
       "      <td>47.616000</td>\n",
       "      <td>46.098446</td>\n",
       "      <td>116.872891</td>\n",
       "      <td>134.000000</td>\n",
       "      <td>7.964912</td>\n",
       "      <td>1</td>\n",
       "    </tr>\n",
       "  </tbody>\n",
       "</table>\n",
       "<p>61158 rows × 8 columns</p>\n",
       "</div>"
      ],
      "text/plain": [
       "            venue  innings  batting_team  bowling_team     striker  \\\n",
       "0       44.653846        1     46.222798     46.256410  105.740741   \n",
       "1       44.653846        1     46.222798     46.256410  132.600157   \n",
       "2       44.653846        1     46.222798     46.256410  132.600157   \n",
       "3       44.653846        1     46.222798     46.256410  132.600157   \n",
       "4       44.653846        1     46.222798     46.256410  132.600157   \n",
       "...           ...      ...           ...           ...         ...   \n",
       "194260  43.000000        2     47.616000     46.098446  134.000000   \n",
       "194261  43.000000        2     47.616000     46.098446  134.000000   \n",
       "194262  43.000000        2     47.616000     46.098446  116.872891   \n",
       "194263  43.000000        2     47.616000     46.098446  116.872891   \n",
       "194264  43.000000        2     47.616000     46.098446  116.872891   \n",
       "\n",
       "        non_striker    bowler  score  \n",
       "0        132.600157  6.919847      1  \n",
       "1        105.740741  6.919847      0  \n",
       "2        105.740741  6.919847      1  \n",
       "3        105.740741  6.919847      0  \n",
       "4        105.740741  6.919847      0  \n",
       "...             ...       ...    ...  \n",
       "194260   116.872891  7.964912      0  \n",
       "194261   116.872891  7.964912      1  \n",
       "194262   134.000000  7.964912      0  \n",
       "194263   134.000000  7.964912      0  \n",
       "194264   134.000000  7.964912      1  \n",
       "\n",
       "[61158 rows x 8 columns]"
      ]
     },
     "execution_count": 202,
     "metadata": {},
     "output_type": "execute_result"
    }
   ],
   "source": [
    "\n",
    "df1"
   ]
  },
  {
   "cell_type": "code",
   "execution_count": 203,
   "metadata": {},
   "outputs": [],
   "source": [
    "X=df1.drop('score',axis=1).values\n",
    "y=df1['score'].values"
   ]
  },
  {
   "cell_type": "code",
   "execution_count": 204,
   "metadata": {},
   "outputs": [],
   "source": [
    "from sklearn.model_selection import train_test_split"
   ]
  },
  {
   "cell_type": "code",
   "execution_count": 205,
   "metadata": {},
   "outputs": [],
   "source": [
    "X_train, X_test, y_train, y_test = train_test_split(X,y, test_size = 0.25, random_state = 0)"
   ]
  },
  {
   "cell_type": "code",
   "execution_count": 206,
   "metadata": {},
   "outputs": [],
   "source": [
    "from sklearn.preprocessing import StandardScaler"
   ]
  },
  {
   "cell_type": "code",
   "execution_count": 207,
   "metadata": {},
   "outputs": [],
   "source": [
    "sc=StandardScaler()\n",
    "X_Train = sc.fit_transform(X_train)\n",
    "X_Test = sc.transform(X_test)"
   ]
  },
  {
   "cell_type": "code",
   "execution_count": 208,
   "metadata": {},
   "outputs": [],
   "source": [
    "#from sklearn.linear_model import LinearRegression\n",
    "#lin = LinearRegression()\n",
    "#lin.fit(X_train, y_train)"
   ]
  },
  {
   "cell_type": "code",
   "execution_count": 209,
   "metadata": {},
   "outputs": [
    {
     "data": {
      "text/plain": [
       "RandomForestRegressor(max_features=None, n_estimators=200)"
      ]
     },
     "execution_count": 209,
     "metadata": {},
     "output_type": "execute_result"
    }
   ],
   "source": [
    "from sklearn.ensemble import RandomForestRegressor\n",
    "lin = RandomForestRegressor(n_estimators=200, max_features=None)\n",
    "lin.fit(X_train, y_train)"
   ]
  },
  {
   "cell_type": "code",
   "execution_count": 210,
   "metadata": {},
   "outputs": [],
   "source": [
    "def custom_accuracy(y_test, y_pred, thresold):\n",
    "    right = 0\n",
    "    l = len(y_pred)\n",
    "    for i in range(0,l):\n",
    "        if(abs(y_pred[i]-y_test[i]) <= thresold):\n",
    "            right +=1\n",
    "    return ((right/l)*100)"
   ]
  },
  {
   "cell_type": "code",
   "execution_count": 211,
   "metadata": {},
   "outputs": [
    {
     "name": "stdout",
     "output_type": "stream",
     "text": [
      "R-squared value:  -24.798796099592725\n",
      "Custom accuracy:  100.0\n"
     ]
    }
   ],
   "source": [
    "y_pred = lin.predict(X_test)\n",
    "score = lin.score(X_test, y_test)*100\n",
    "print(\"R-squared value: \",score)\n",
    "print(\"Custom accuracy: \",custom_accuracy(y_test,y_pred,20))"
   ]
  },
  {
   "cell_type": "code",
   "execution_count": 212,
   "metadata": {},
   "outputs": [],
   "source": [
    "l =[0.1, 0.2, 0.3, 0.4, 0.5, 0.6, 0.7, 1.1, 1.2, 1.3, 1.4, 1.5, 1.6,\n",
    "       2.1, 2.2, 2.3, 2.4, 2.5, 2.6, 3.1, 3.2, 3.3, 3.4, 3.5, 3.6, 3.7,\n",
    "       4.1, 4.2, 4.3, 4.4, 4.5, 4.6, 5.1, 5.2, 5.3, 5.4, 5.5, 5.6, 2.7,\n",
    "       1.7, 5.7, 5.8, 1.8, 4.7, 3.8, 0.8, 2.8, 1.9, 5.9, 4.8, 0.9, 3.9,\n",
    "       4.9, 2.9]"
   ]
  },
  {
   "cell_type": "code",
   "execution_count": null,
   "metadata": {},
   "outputs": [],
   "source": []
  },
  {
   "cell_type": "code",
   "execution_count": 213,
   "metadata": {},
   "outputs": [],
   "source": [
    "input_test = pd.read_csv('input_test_data.csv')"
   ]
  },
  {
   "cell_type": "code",
   "execution_count": 214,
   "metadata": {
    "scrolled": true
   },
   "outputs": [
    {
     "data": {
      "text/html": [
       "<div>\n",
       "<style scoped>\n",
       "    .dataframe tbody tr th:only-of-type {\n",
       "        vertical-align: middle;\n",
       "    }\n",
       "\n",
       "    .dataframe tbody tr th {\n",
       "        vertical-align: top;\n",
       "    }\n",
       "\n",
       "    .dataframe thead th {\n",
       "        text-align: right;\n",
       "    }\n",
       "</style>\n",
       "<table border=\"1\" class=\"dataframe\">\n",
       "  <thead>\n",
       "    <tr style=\"text-align: right;\">\n",
       "      <th></th>\n",
       "      <th>venue</th>\n",
       "      <th>innings</th>\n",
       "      <th>batting_team</th>\n",
       "      <th>bowling_team</th>\n",
       "      <th>batsmen</th>\n",
       "      <th>Unnamed: 5</th>\n",
       "      <th>Unnamed: 6</th>\n",
       "      <th>bowlers</th>\n",
       "      <th>Unnamed: 8</th>\n",
       "      <th>Unnamed: 9</th>\n",
       "    </tr>\n",
       "  </thead>\n",
       "  <tbody>\n",
       "    <tr>\n",
       "      <th>0</th>\n",
       "      <td>Wankhede Stadium</td>\n",
       "      <td>1</td>\n",
       "      <td>Kolkata Knight Riders</td>\n",
       "      <td>Rajasthan Royals</td>\n",
       "      <td>N Rana</td>\n",
       "      <td>Shubman Gill</td>\n",
       "      <td>R A Tripathi</td>\n",
       "      <td>JD Unadkat</td>\n",
       "      <td>YBK Jaiswal</td>\n",
       "      <td>CH Morris</td>\n",
       "    </tr>\n",
       "  </tbody>\n",
       "</table>\n",
       "</div>"
      ],
      "text/plain": [
       "              venue  innings           batting_team      bowling_team batsmen  \\\n",
       "0  Wankhede Stadium        1  Kolkata Knight Riders  Rajasthan Royals  N Rana   \n",
       "\n",
       "     Unnamed: 5    Unnamed: 6     bowlers   Unnamed: 8 Unnamed: 9  \n",
       "0  Shubman Gill  R A Tripathi  JD Unadkat  YBK Jaiswal  CH Morris  "
      ]
     },
     "execution_count": 214,
     "metadata": {},
     "output_type": "execute_result"
    }
   ],
   "source": [
    "input_test"
   ]
  },
  {
   "cell_type": "code",
   "execution_count": 215,
   "metadata": {},
   "outputs": [],
   "source": [
    "input_test['venue'] = input_test['venue'].replace(venue['avg_score'])"
   ]
  },
  {
   "cell_type": "code",
   "execution_count": 216,
   "metadata": {},
   "outputs": [],
   "source": [
    "input_test['batting_team'] = input_test['batting_team'].replace(batting_team['avg_score'])"
   ]
  },
  {
   "cell_type": "code",
   "execution_count": 217,
   "metadata": {},
   "outputs": [],
   "source": [
    "input_test['bowling_team'] = input_test['bowling_team'].replace(bowling_team['avg_score_conceded'])"
   ]
  },
  {
   "cell_type": "code",
   "execution_count": 218,
   "metadata": {},
   "outputs": [],
   "source": [
    "input_test['batsmen'] = input_test['batsmen'].replace(batsman['strike_rate'])"
   ]
  },
  {
   "cell_type": "code",
   "execution_count": 219,
   "metadata": {
    "scrolled": true
   },
   "outputs": [],
   "source": [
    "input_test['Unnamed: 5'] = input_test['Unnamed: 5'].replace(batsman['strike_rate'])"
   ]
  },
  {
   "cell_type": "code",
   "execution_count": 220,
   "metadata": {},
   "outputs": [],
   "source": [
    "input_test['Unnamed: 6'] = input_test['Unnamed: 6'].replace(batsman['strike_rate'])"
   ]
  },
  {
   "cell_type": "code",
   "execution_count": 221,
   "metadata": {},
   "outputs": [],
   "source": [
    "input_test['bowlers'] = input_test['bowlers'].replace(bowler['economy'])"
   ]
  },
  {
   "cell_type": "code",
   "execution_count": 222,
   "metadata": {},
   "outputs": [],
   "source": [
    "input_test['Unnamed: 8'] = input_test['Unnamed: 8'].replace(bowler['economy'])"
   ]
  },
  {
   "cell_type": "code",
   "execution_count": 223,
   "metadata": {},
   "outputs": [],
   "source": [
    "input_test['Unnamed: 9'] = input_test['Unnamed: 9'].replace(bowler['economy'])"
   ]
  },
  {
   "cell_type": "code",
   "execution_count": null,
   "metadata": {},
   "outputs": [],
   "source": []
  },
  {
   "cell_type": "code",
   "execution_count": 224,
   "metadata": {},
   "outputs": [
    {
     "name": "stdout",
     "output_type": "stream",
     "text": [
      "Prediction score:  [14.97364286]\n"
     ]
    }
   ],
   "source": [
    "new_prediction=0\n",
    "for i in l:\n",
    "    new_prediction+= lin.predict(sc.transform(np.array(input_test[['venue', 'innings', 'batting_team', 'bowling_team', 'batsmen','Unnamed: 5','bowlers']])))\n",
    "print(\"Prediction score: \",new_prediction)"
   ]
  },
  {
   "cell_type": "code",
   "execution_count": null,
   "metadata": {},
   "outputs": [],
   "source": []
  },
  {
   "cell_type": "code",
   "execution_count": null,
   "metadata": {},
   "outputs": [],
   "source": []
  }
 ],
 "metadata": {
  "kernelspec": {
   "display_name": "Python 3",
   "language": "python",
   "name": "python3"
  },
  "language_info": {
   "codemirror_mode": {
    "name": "ipython",
    "version": 3
   },
   "file_extension": ".py",
   "mimetype": "text/x-python",
   "name": "python",
   "nbconvert_exporter": "python",
   "pygments_lexer": "ipython3",
   "version": "3.8.5"
  }
 },
 "nbformat": 4,
 "nbformat_minor": 4
}
